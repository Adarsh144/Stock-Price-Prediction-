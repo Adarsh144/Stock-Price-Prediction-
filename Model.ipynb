{
  "cells": [
    {
      "cell_type": "code",
      "execution_count": null,
      "metadata": {
        "id": "Ko38baQ1t4ac"
      },
      "outputs": [],
      "source": [
        "import math\n",
        "import numpy as np\n",
        "import pandas as pd\n",
        "import tensorflow as tf\n",
        "from sklearn.svm import SVR\n",
        "from sklearn.preprocessing import MinMaxScaler, StandardScaler\n",
        "from keras.models import Sequential\n",
        "from keras.layers import Dense, LSTM, SimpleRNN, GRU, Dropout\n",
        "from keras.layers import Conv1D, MaxPooling1D, Bidirectional, Flatten\n",
        "from sklearn.ensemble import RandomForestRegressor\n",
        "import matplotlib.pyplot as plt\n",
        "from sklearn.metrics import r2_score, mean_absolute_error\n",
        "from tabulate import tabulate\n",
        "import matplotlib.dates as mdates\n",
        "from tensorflow.keras.utils import plot_model"
      ]
    },
    {
      "cell_type": "code",
      "execution_count": null,
      "metadata": {
        "colab": {
          "base_uri": "https://localhost:8080/",
          "height": 423
        },
        "id": "UpFQfqaJt94D",
        "outputId": "3213f347-7b24-4f9f-e3a3-02a27e04c170"
      },
      "outputs": [
        {
          "output_type": "execute_result",
          "data": {
            "text/plain": [
              "            Date          Open          High           Low         Close  \\\n",
              "0     17-09-2014    465.864014    468.174011    452.421997    457.334015   \n",
              "1     18-09-2014    456.859985    456.859985    413.104004    424.440002   \n",
              "2     19-09-2014    424.102997    427.834991    384.532013    394.795990   \n",
              "3     20-09-2014    394.673004    423.295990    389.882996    408.903992   \n",
              "4     21-09-2014    408.084991    412.425995    393.181000    398.821014   \n",
              "...          ...           ...           ...           ...           ...   \n",
              "3520  07-05-2024  63162.761720  64390.457030  62285.980470  62334.816410   \n",
              "3521  08-05-2024  62332.640630  62986.085940  60877.128910  61187.941410   \n",
              "3522  09-05-2024  61191.199220  63404.914060  60648.074220  63049.960940   \n",
              "3523  10-05-2024  63061.996090  63437.750000  60317.429690  60636.000000   \n",
              "3524  11-05-2024  60793.355470  61451.152340  60492.625000  60793.710940   \n",
              "\n",
              "         Adj Close        Volume  \n",
              "0       457.334015  2.105680e+07  \n",
              "1       424.440002  3.448320e+07  \n",
              "2       394.795990  3.791970e+07  \n",
              "3       408.903992  3.686360e+07  \n",
              "4       398.821014  2.658010e+07  \n",
              "...            ...           ...  \n",
              "3520  62334.816410  2.593073e+10  \n",
              "3521  61187.941410  2.608817e+10  \n",
              "3522  63049.960940  2.545334e+10  \n",
              "3523  60636.000000  2.910376e+10  \n",
              "3524  60793.710940  1.384227e+10  \n",
              "\n",
              "[3525 rows x 7 columns]"
            ],
            "text/html": [
              "\n",
              "  <div id=\"df-0baad223-9e33-4718-a2af-5b5b77fed4a0\" class=\"colab-df-container\">\n",
              "    <div>\n",
              "<style scoped>\n",
              "    .dataframe tbody tr th:only-of-type {\n",
              "        vertical-align: middle;\n",
              "    }\n",
              "\n",
              "    .dataframe tbody tr th {\n",
              "        vertical-align: top;\n",
              "    }\n",
              "\n",
              "    .dataframe thead th {\n",
              "        text-align: right;\n",
              "    }\n",
              "</style>\n",
              "<table border=\"1\" class=\"dataframe\">\n",
              "  <thead>\n",
              "    <tr style=\"text-align: right;\">\n",
              "      <th></th>\n",
              "      <th>Date</th>\n",
              "      <th>Open</th>\n",
              "      <th>High</th>\n",
              "      <th>Low</th>\n",
              "      <th>Close</th>\n",
              "      <th>Adj Close</th>\n",
              "      <th>Volume</th>\n",
              "    </tr>\n",
              "  </thead>\n",
              "  <tbody>\n",
              "    <tr>\n",
              "      <th>0</th>\n",
              "      <td>17-09-2014</td>\n",
              "      <td>465.864014</td>\n",
              "      <td>468.174011</td>\n",
              "      <td>452.421997</td>\n",
              "      <td>457.334015</td>\n",
              "      <td>457.334015</td>\n",
              "      <td>2.105680e+07</td>\n",
              "    </tr>\n",
              "    <tr>\n",
              "      <th>1</th>\n",
              "      <td>18-09-2014</td>\n",
              "      <td>456.859985</td>\n",
              "      <td>456.859985</td>\n",
              "      <td>413.104004</td>\n",
              "      <td>424.440002</td>\n",
              "      <td>424.440002</td>\n",
              "      <td>3.448320e+07</td>\n",
              "    </tr>\n",
              "    <tr>\n",
              "      <th>2</th>\n",
              "      <td>19-09-2014</td>\n",
              "      <td>424.102997</td>\n",
              "      <td>427.834991</td>\n",
              "      <td>384.532013</td>\n",
              "      <td>394.795990</td>\n",
              "      <td>394.795990</td>\n",
              "      <td>3.791970e+07</td>\n",
              "    </tr>\n",
              "    <tr>\n",
              "      <th>3</th>\n",
              "      <td>20-09-2014</td>\n",
              "      <td>394.673004</td>\n",
              "      <td>423.295990</td>\n",
              "      <td>389.882996</td>\n",
              "      <td>408.903992</td>\n",
              "      <td>408.903992</td>\n",
              "      <td>3.686360e+07</td>\n",
              "    </tr>\n",
              "    <tr>\n",
              "      <th>4</th>\n",
              "      <td>21-09-2014</td>\n",
              "      <td>408.084991</td>\n",
              "      <td>412.425995</td>\n",
              "      <td>393.181000</td>\n",
              "      <td>398.821014</td>\n",
              "      <td>398.821014</td>\n",
              "      <td>2.658010e+07</td>\n",
              "    </tr>\n",
              "    <tr>\n",
              "      <th>...</th>\n",
              "      <td>...</td>\n",
              "      <td>...</td>\n",
              "      <td>...</td>\n",
              "      <td>...</td>\n",
              "      <td>...</td>\n",
              "      <td>...</td>\n",
              "      <td>...</td>\n",
              "    </tr>\n",
              "    <tr>\n",
              "      <th>3520</th>\n",
              "      <td>07-05-2024</td>\n",
              "      <td>63162.761720</td>\n",
              "      <td>64390.457030</td>\n",
              "      <td>62285.980470</td>\n",
              "      <td>62334.816410</td>\n",
              "      <td>62334.816410</td>\n",
              "      <td>2.593073e+10</td>\n",
              "    </tr>\n",
              "    <tr>\n",
              "      <th>3521</th>\n",
              "      <td>08-05-2024</td>\n",
              "      <td>62332.640630</td>\n",
              "      <td>62986.085940</td>\n",
              "      <td>60877.128910</td>\n",
              "      <td>61187.941410</td>\n",
              "      <td>61187.941410</td>\n",
              "      <td>2.608817e+10</td>\n",
              "    </tr>\n",
              "    <tr>\n",
              "      <th>3522</th>\n",
              "      <td>09-05-2024</td>\n",
              "      <td>61191.199220</td>\n",
              "      <td>63404.914060</td>\n",
              "      <td>60648.074220</td>\n",
              "      <td>63049.960940</td>\n",
              "      <td>63049.960940</td>\n",
              "      <td>2.545334e+10</td>\n",
              "    </tr>\n",
              "    <tr>\n",
              "      <th>3523</th>\n",
              "      <td>10-05-2024</td>\n",
              "      <td>63061.996090</td>\n",
              "      <td>63437.750000</td>\n",
              "      <td>60317.429690</td>\n",
              "      <td>60636.000000</td>\n",
              "      <td>60636.000000</td>\n",
              "      <td>2.910376e+10</td>\n",
              "    </tr>\n",
              "    <tr>\n",
              "      <th>3524</th>\n",
              "      <td>11-05-2024</td>\n",
              "      <td>60793.355470</td>\n",
              "      <td>61451.152340</td>\n",
              "      <td>60492.625000</td>\n",
              "      <td>60793.710940</td>\n",
              "      <td>60793.710940</td>\n",
              "      <td>1.384227e+10</td>\n",
              "    </tr>\n",
              "  </tbody>\n",
              "</table>\n",
              "<p>3525 rows × 7 columns</p>\n",
              "</div>\n",
              "    <div class=\"colab-df-buttons\">\n",
              "\n",
              "  <div class=\"colab-df-container\">\n",
              "    <button class=\"colab-df-convert\" onclick=\"convertToInteractive('df-0baad223-9e33-4718-a2af-5b5b77fed4a0')\"\n",
              "            title=\"Convert this dataframe to an interactive table.\"\n",
              "            style=\"display:none;\">\n",
              "\n",
              "  <svg xmlns=\"http://www.w3.org/2000/svg\" height=\"24px\" viewBox=\"0 -960 960 960\">\n",
              "    <path d=\"M120-120v-720h720v720H120Zm60-500h600v-160H180v160Zm220 220h160v-160H400v160Zm0 220h160v-160H400v160ZM180-400h160v-160H180v160Zm440 0h160v-160H620v160ZM180-180h160v-160H180v160Zm440 0h160v-160H620v160Z\"/>\n",
              "  </svg>\n",
              "    </button>\n",
              "\n",
              "  <style>\n",
              "    .colab-df-container {\n",
              "      display:flex;\n",
              "      gap: 12px;\n",
              "    }\n",
              "\n",
              "    .colab-df-convert {\n",
              "      background-color: #E8F0FE;\n",
              "      border: none;\n",
              "      border-radius: 50%;\n",
              "      cursor: pointer;\n",
              "      display: none;\n",
              "      fill: #1967D2;\n",
              "      height: 32px;\n",
              "      padding: 0 0 0 0;\n",
              "      width: 32px;\n",
              "    }\n",
              "\n",
              "    .colab-df-convert:hover {\n",
              "      background-color: #E2EBFA;\n",
              "      box-shadow: 0px 1px 2px rgba(60, 64, 67, 0.3), 0px 1px 3px 1px rgba(60, 64, 67, 0.15);\n",
              "      fill: #174EA6;\n",
              "    }\n",
              "\n",
              "    .colab-df-buttons div {\n",
              "      margin-bottom: 4px;\n",
              "    }\n",
              "\n",
              "    [theme=dark] .colab-df-convert {\n",
              "      background-color: #3B4455;\n",
              "      fill: #D2E3FC;\n",
              "    }\n",
              "\n",
              "    [theme=dark] .colab-df-convert:hover {\n",
              "      background-color: #434B5C;\n",
              "      box-shadow: 0px 1px 3px 1px rgba(0, 0, 0, 0.15);\n",
              "      filter: drop-shadow(0px 1px 2px rgba(0, 0, 0, 0.3));\n",
              "      fill: #FFFFFF;\n",
              "    }\n",
              "  </style>\n",
              "\n",
              "    <script>\n",
              "      const buttonEl =\n",
              "        document.querySelector('#df-0baad223-9e33-4718-a2af-5b5b77fed4a0 button.colab-df-convert');\n",
              "      buttonEl.style.display =\n",
              "        google.colab.kernel.accessAllowed ? 'block' : 'none';\n",
              "\n",
              "      async function convertToInteractive(key) {\n",
              "        const element = document.querySelector('#df-0baad223-9e33-4718-a2af-5b5b77fed4a0');\n",
              "        const dataTable =\n",
              "          await google.colab.kernel.invokeFunction('convertToInteractive',\n",
              "                                                    [key], {});\n",
              "        if (!dataTable) return;\n",
              "\n",
              "        const docLinkHtml = 'Like what you see? Visit the ' +\n",
              "          '<a target=\"_blank\" href=https://colab.research.google.com/notebooks/data_table.ipynb>data table notebook</a>'\n",
              "          + ' to learn more about interactive tables.';\n",
              "        element.innerHTML = '';\n",
              "        dataTable['output_type'] = 'display_data';\n",
              "        await google.colab.output.renderOutput(dataTable, element);\n",
              "        const docLink = document.createElement('div');\n",
              "        docLink.innerHTML = docLinkHtml;\n",
              "        element.appendChild(docLink);\n",
              "      }\n",
              "    </script>\n",
              "  </div>\n",
              "\n",
              "\n",
              "<div id=\"df-aeb72d44-753f-4fe2-ad5a-8bc28bdbc7de\">\n",
              "  <button class=\"colab-df-quickchart\" onclick=\"quickchart('df-aeb72d44-753f-4fe2-ad5a-8bc28bdbc7de')\"\n",
              "            title=\"Suggest charts\"\n",
              "            style=\"display:none;\">\n",
              "\n",
              "<svg xmlns=\"http://www.w3.org/2000/svg\" height=\"24px\"viewBox=\"0 0 24 24\"\n",
              "     width=\"24px\">\n",
              "    <g>\n",
              "        <path d=\"M19 3H5c-1.1 0-2 .9-2 2v14c0 1.1.9 2 2 2h14c1.1 0 2-.9 2-2V5c0-1.1-.9-2-2-2zM9 17H7v-7h2v7zm4 0h-2V7h2v10zm4 0h-2v-4h2v4z\"/>\n",
              "    </g>\n",
              "</svg>\n",
              "  </button>\n",
              "\n",
              "<style>\n",
              "  .colab-df-quickchart {\n",
              "      --bg-color: #E8F0FE;\n",
              "      --fill-color: #1967D2;\n",
              "      --hover-bg-color: #E2EBFA;\n",
              "      --hover-fill-color: #174EA6;\n",
              "      --disabled-fill-color: #AAA;\n",
              "      --disabled-bg-color: #DDD;\n",
              "  }\n",
              "\n",
              "  [theme=dark] .colab-df-quickchart {\n",
              "      --bg-color: #3B4455;\n",
              "      --fill-color: #D2E3FC;\n",
              "      --hover-bg-color: #434B5C;\n",
              "      --hover-fill-color: #FFFFFF;\n",
              "      --disabled-bg-color: #3B4455;\n",
              "      --disabled-fill-color: #666;\n",
              "  }\n",
              "\n",
              "  .colab-df-quickchart {\n",
              "    background-color: var(--bg-color);\n",
              "    border: none;\n",
              "    border-radius: 50%;\n",
              "    cursor: pointer;\n",
              "    display: none;\n",
              "    fill: var(--fill-color);\n",
              "    height: 32px;\n",
              "    padding: 0;\n",
              "    width: 32px;\n",
              "  }\n",
              "\n",
              "  .colab-df-quickchart:hover {\n",
              "    background-color: var(--hover-bg-color);\n",
              "    box-shadow: 0 1px 2px rgba(60, 64, 67, 0.3), 0 1px 3px 1px rgba(60, 64, 67, 0.15);\n",
              "    fill: var(--button-hover-fill-color);\n",
              "  }\n",
              "\n",
              "  .colab-df-quickchart-complete:disabled,\n",
              "  .colab-df-quickchart-complete:disabled:hover {\n",
              "    background-color: var(--disabled-bg-color);\n",
              "    fill: var(--disabled-fill-color);\n",
              "    box-shadow: none;\n",
              "  }\n",
              "\n",
              "  .colab-df-spinner {\n",
              "    border: 2px solid var(--fill-color);\n",
              "    border-color: transparent;\n",
              "    border-bottom-color: var(--fill-color);\n",
              "    animation:\n",
              "      spin 1s steps(1) infinite;\n",
              "  }\n",
              "\n",
              "  @keyframes spin {\n",
              "    0% {\n",
              "      border-color: transparent;\n",
              "      border-bottom-color: var(--fill-color);\n",
              "      border-left-color: var(--fill-color);\n",
              "    }\n",
              "    20% {\n",
              "      border-color: transparent;\n",
              "      border-left-color: var(--fill-color);\n",
              "      border-top-color: var(--fill-color);\n",
              "    }\n",
              "    30% {\n",
              "      border-color: transparent;\n",
              "      border-left-color: var(--fill-color);\n",
              "      border-top-color: var(--fill-color);\n",
              "      border-right-color: var(--fill-color);\n",
              "    }\n",
              "    40% {\n",
              "      border-color: transparent;\n",
              "      border-right-color: var(--fill-color);\n",
              "      border-top-color: var(--fill-color);\n",
              "    }\n",
              "    60% {\n",
              "      border-color: transparent;\n",
              "      border-right-color: var(--fill-color);\n",
              "    }\n",
              "    80% {\n",
              "      border-color: transparent;\n",
              "      border-right-color: var(--fill-color);\n",
              "      border-bottom-color: var(--fill-color);\n",
              "    }\n",
              "    90% {\n",
              "      border-color: transparent;\n",
              "      border-bottom-color: var(--fill-color);\n",
              "    }\n",
              "  }\n",
              "</style>\n",
              "\n",
              "  <script>\n",
              "    async function quickchart(key) {\n",
              "      const quickchartButtonEl =\n",
              "        document.querySelector('#' + key + ' button');\n",
              "      quickchartButtonEl.disabled = true;  // To prevent multiple clicks.\n",
              "      quickchartButtonEl.classList.add('colab-df-spinner');\n",
              "      try {\n",
              "        const charts = await google.colab.kernel.invokeFunction(\n",
              "            'suggestCharts', [key], {});\n",
              "      } catch (error) {\n",
              "        console.error('Error during call to suggestCharts:', error);\n",
              "      }\n",
              "      quickchartButtonEl.classList.remove('colab-df-spinner');\n",
              "      quickchartButtonEl.classList.add('colab-df-quickchart-complete');\n",
              "    }\n",
              "    (() => {\n",
              "      let quickchartButtonEl =\n",
              "        document.querySelector('#df-aeb72d44-753f-4fe2-ad5a-8bc28bdbc7de button');\n",
              "      quickchartButtonEl.style.display =\n",
              "        google.colab.kernel.accessAllowed ? 'block' : 'none';\n",
              "    })();\n",
              "  </script>\n",
              "</div>\n",
              "    </div>\n",
              "  </div>\n"
            ],
            "application/vnd.google.colaboratory.intrinsic+json": {
              "type": "dataframe",
              "variable_name": "df",
              "summary": "{\n  \"name\": \"df\",\n  \"rows\": 3525,\n  \"fields\": [\n    {\n      \"column\": \"Date\",\n      \"properties\": {\n        \"dtype\": \"object\",\n        \"num_unique_values\": 3525,\n        \"samples\": [\n          \"08-08-2015\",\n          \"11-02-2021\",\n          \"21-01-2024\"\n        ],\n        \"semantic_type\": \"\",\n        \"description\": \"\"\n      }\n    },\n    {\n      \"column\": \"Open\",\n      \"properties\": {\n        \"dtype\": \"number\",\n        \"std\": 17922.89072656881,\n        \"min\": 176.897003,\n        \"max\": 73079.375,\n        \"num_unique_values\": 3521,\n        \"samples\": [\n          39016.96875,\n          376.019012,\n          238.328995\n        ],\n        \"semantic_type\": \"\",\n        \"description\": \"\"\n      }\n    },\n    {\n      \"column\": \"High\",\n      \"properties\": {\n        \"dtype\": \"number\",\n        \"std\": 18348.591240201324,\n        \"min\": 211.731003,\n        \"max\": 73750.07031,\n        \"num_unique_values\": 3522,\n        \"samples\": [\n          26203.43945,\n          8408.516602,\n          20382.0957\n        ],\n        \"semantic_type\": \"\",\n        \"description\": \"\"\n      }\n    },\n    {\n      \"column\": \"Low\",\n      \"properties\": {\n        \"dtype\": \"number\",\n        \"std\": 17449.132660236624,\n        \"min\": 171.509995,\n        \"max\": 71334.09375,\n        \"num_unique_values\": 3523,\n        \"samples\": [\n          3891.904297,\n          4096.901367,\n          19689.25781\n        ],\n        \"semantic_type\": \"\",\n        \"description\": \"\"\n      }\n    },\n    {\n      \"column\": \"Close\",\n      \"properties\": {\n        \"dtype\": \"number\",\n        \"std\": 17934.194121895598,\n        \"min\": 178.102997,\n        \"max\": 73083.5,\n        \"num_unique_values\": 3522,\n        \"samples\": [\n          25940.16797,\n          8206.145508,\n          20209.98828\n        ],\n        \"semantic_type\": \"\",\n        \"description\": \"\"\n      }\n    },\n    {\n      \"column\": \"Adj Close\",\n      \"properties\": {\n        \"dtype\": \"number\",\n        \"std\": 17934.194121895598,\n        \"min\": 178.102997,\n        \"max\": 73083.5,\n        \"num_unique_values\": 3522,\n        \"samples\": [\n          25940.16797,\n          8206.145508,\n          20209.98828\n        ],\n        \"semantic_type\": \"\",\n        \"description\": \"\"\n      }\n    },\n    {\n      \"column\": \"Volume\",\n      \"properties\": {\n        \"dtype\": \"number\",\n        \"std\": 19256172381.069878,\n        \"min\": 5914570.0,\n        \"max\": 350968000000.0,\n        \"num_unique_values\": 3525,\n        \"samples\": [\n          58533000.0,\n          81388911810.0,\n          9344043642.0\n        ],\n        \"semantic_type\": \"\",\n        \"description\": \"\"\n      }\n    }\n  ]\n}"
            }
          },
          "metadata": {},
          "execution_count": 12
        }
      ],
      "source": [
        "df = pd.read_csv('BTC-USD.csv')\n",
        "df"
      ]
    },
    {
      "cell_type": "code",
      "execution_count": null,
      "metadata": {
        "colab": {
          "base_uri": "https://localhost:8080/",
          "height": 624
        },
        "id": "SB4opbinuC8S",
        "outputId": "72e073d1-6a79-43bf-dc47-51d2b5ef6cb3"
      },
      "outputs": [
        {
          "output_type": "stream",
          "name": "stderr",
          "text": [
            "<ipython-input-13-445cf313746a>:1: UserWarning: Parsing dates in %d-%m-%Y format when dayfirst=False (the default) was specified. Pass `dayfirst=True` or specify a format to silence this warning.\n",
            "  df['Date'] = pd.to_datetime(df['Date'])\n"
          ]
        },
        {
          "output_type": "display_data",
          "data": {
            "text/plain": [
              "<Figure size 1600x800 with 1 Axes>"
            ],
            "image/png": "[encoded data removed]"
          },
          "metadata": {}
        }
      ],
      "source": [
        "df['Date'] = pd.to_datetime(df['Date'])\n",
        "\n",
        "plt.figure(figsize=(16, 8))\n",
        "plt.title('Close Price', fontsize=24)\n",
        "plt.plot(df['Date'], df['Close'])\n",
        "plt.xlabel('Year', fontsize=18)\n",
        "plt.ylabel('USD', fontsize=18)\n",
        "\n",
        "plt.gca().xaxis.set_major_locator(mdates.YearLocator())\n",
        "plt.gca().xaxis.set_major_formatter(mdates.DateFormatter('%Y'))\n",
        "plt.gcf().autofmt_xdate()\n",
        "\n",
        "plt.xlim(df['Date'].min(), df['Date'].max())\n",
        "\n",
        "plt.show()"
      ]
    },
    {
      "cell_type": "code",
      "execution_count": null,
      "metadata": {
        "id": "Ap0siimzuFjR"
      },
      "outputs": [],
      "source": [
        "data = df.filter(['Close'])\n",
        "dataset = data.values\n",
        "\n",
        "training_data_len = math.ceil(len(dataset) * 0.8)\n",
        "validation_data_len = len(dataset) - training_data_len"
      ]
    },
    {
      "cell_type": "code",
      "execution_count": null,
      "metadata": {
        "colab": {
          "base_uri": "https://localhost:8080/"
        },
        "id": "ElRqOVrFuF4I",
        "outputId": "8c3dcea9-b659-417f-8e3d-2782b61b4b71"
      },
      "outputs": [
        {
          "output_type": "execute_result",
          "data": {
            "text/plain": [
              "array([[0.00383005],\n",
              "       [0.00337886],\n",
              "       [0.00297225],\n",
              "       ...,\n",
              "       [0.86237591],\n",
              "       [0.82926504],\n",
              "       [0.83142827]])"
            ]
          },
          "metadata": {},
          "execution_count": 15
        }
      ],
      "source": [
        "scaler = MinMaxScaler(feature_range=(0, 1))\n",
        "scaled_data = scaler.fit_transform(dataset)\n",
        "scaled_data"
      ]
    },
    {
      "cell_type": "code",
      "execution_count": null,
      "metadata": {
        "id": "9hpQdt2CuHXA"
      },
      "outputs": [],
      "source": [
        "train_data = scaled_data[0:training_data_len, :]\n",
        "validation_data = scaled_data[training_data_len:, :]\n",
        "\n",
        "X_train = []\n",
        "y_train = []\n",
        "\n",
        "def create_sequences(data, sequence_length):\n",
        "    X, y = [], []\n",
        "    for i in range(sequence_length, len(data)):\n",
        "        X.append(data[i - sequence_length:i, 0])\n",
        "        y.append(data[i, 0])\n",
        "    return np.array(X), np.array(y)\n",
        "\n",
        "sequence_length = 60\n",
        "X_train, y_train = create_sequences(train_data, sequence_length)\n",
        "X_validation, y_validation = create_sequences(validation_data, sequence_length)"
      ]
    },
    {
      "cell_type": "code",
      "execution_count": null,
      "metadata": {
        "colab": {
          "base_uri": "https://localhost:8080/"
        },
        "id": "Y0lbm1LYuLsw",
        "outputId": "9e7c3d87-8be6-4f5b-c813-ace6d85688fd"
      },
      "outputs": [
        {
          "output_type": "execute_result",
          "data": {
            "text/plain": [
              "2760"
            ]
          },
          "metadata": {},
          "execution_count": 17
        }
      ],
      "source": [
        "len(X_train)"
      ]
    },
    {
      "cell_type": "code",
      "execution_count": null,
      "metadata": {
        "id": "gAKdm4gEuPh1"
      },
      "outputs": [],
      "source": [
        "X_train, y_train = np.array(X_train), np.array(y_train)"
      ]
    },
    {
      "cell_type": "code",
      "execution_count": null,
      "metadata": {
        "colab": {
          "base_uri": "https://localhost:8080/"
        },
        "id": "_hVwxnRTuS7I",
        "outputId": "bef64321-e248-475d-c255-79b980a64c49"
      },
      "outputs": [
        {
          "output_type": "execute_result",
          "data": {
            "text/plain": [
              "(2760, 60)"
            ]
          },
          "metadata": {},
          "execution_count": 19
        }
      ],
      "source": [
        "X_train.shape"
      ]
    },
    {
      "cell_type": "code",
      "execution_count": null,
      "metadata": {
        "colab": {
          "base_uri": "https://localhost:8080/"
        },
        "id": "YKIAjGBOuVCW",
        "outputId": "24b9071b-cdde-4ab0-a93c-666a1e675b83"
      },
      "outputs": [
        {
          "output_type": "execute_result",
          "data": {
            "text/plain": [
              "(2760, 60, 1)"
            ]
          },
          "metadata": {},
          "execution_count": 20
        }
      ],
      "source": [
        "X_train = np.reshape(X_train, (X_train.shape[0], X_train.shape[1], 1))\n",
        "X_train.shape"
      ]
    },
    {
      "cell_type": "code",
      "execution_count": null,
      "metadata": {
        "id": "ASf_6rt-uX0A"
      },
      "outputs": [],
      "source": [
        "test_data = scaled_data[training_data_len - 60:, :]\n",
        "\n",
        "X_test = []\n",
        "y_test = dataset[training_data_len:, :]\n",
        "for i in range(60, len(test_data)):\n",
        "    X_test.append(test_data[i-60: i, 0])"
      ]
    },
    {
      "cell_type": "code",
      "execution_count": null,
      "metadata": {
        "id": "EBvhBuIMucG4"
      },
      "outputs": [],
      "source": [
        "X_test = np.array(X_test)\n",
        "X_test = np.reshape(X_test, (X_test.shape[0], X_test.shape[1], 1))"
      ]
    },
    {
      "cell_type": "code",
      "execution_count": null,
      "metadata": {
        "id": "2yElu0jYul7w"
      },
      "outputs": [],
      "source": [
        "#RNN Model\n",
        "\n",
        "model_1 = Sequential()\n",
        "model_1.add(SimpleRNN(50, return_sequences=True, input_shape=(X_train.shape[1], 1)))\n",
        "model_1.add(Dropout(0.2))\n",
        "model_1.add(SimpleRNN(50, return_sequences=False))\n",
        "model_1.add(Dense(25))\n",
        "model_1.add(Dense(1))\n",
        "\n",
        "model_1.compile(optimizer='adam', loss='mse')"
      ]
    },
    {
      "cell_type": "code",
      "execution_count": null,
      "metadata": {
        "colab": {
          "base_uri": "https://localhost:8080/"
        },
        "id": "8ibG9Km7uuPV",
        "outputId": "0ce870ff-192b-4913-95a0-574bce1c0244"
      },
      "outputs": [
        {
          "output_type": "stream",
          "name": "stdout",
          "text": [
            "Epoch 1/10\n",
            "2760/2760 [==============================] - 216s 76ms/step - loss: 0.0049 - val_loss: 4.1161e-04\n",
            "Epoch 2/10\n",
            "2760/2760 [==============================] - 211s 76ms/step - loss: 0.0012 - val_loss: 4.0288e-04\n",
            "Epoch 3/10\n",
            "2760/2760 [==============================] - 210s 76ms/step - loss: 0.0012 - val_loss: 0.0022\n",
            "Epoch 4/10\n",
            "2760/2760 [==============================] - 209s 76ms/step - loss: 0.0010 - val_loss: 4.4647e-04\n",
            "Epoch 5/10\n",
            "2760/2760 [==============================] - 212s 77ms/step - loss: 6.1519e-04 - val_loss: 7.5886e-04\n",
            "Epoch 6/10\n",
            "2760/2760 [==============================] - 208s 75ms/step - loss: 7.7607e-04 - val_loss: 5.6400e-04\n",
            "Epoch 7/10\n",
            "2760/2760 [==============================] - 215s 78ms/step - loss: 6.4511e-04 - val_loss: 7.7129e-04\n",
            "Epoch 8/10\n",
            "2760/2760 [==============================] - 218s 79ms/step - loss: 8.6753e-04 - val_loss: 7.0206e-04\n",
            "Epoch 9/10\n",
            "2760/2760 [==============================] - 211s 77ms/step - loss: 5.5569e-04 - val_loss: 0.0011\n",
            "Epoch 10/10\n",
            "2760/2760 [==============================] - 215s 78ms/step - loss: 6.4268e-04 - val_loss: 0.0010\n"
          ]
        }
      ],
      "source": [
        "history_1 = model_1.fit(\n",
        "    X_train, y_train,\n",
        "    validation_data=(X_validation, y_validation),\n",
        "    batch_size=1,\n",
        "    epochs=10\n",
        ")"
      ]
    },
    {
      "cell_type": "code",
      "execution_count": null,
      "metadata": {
        "colab": {
          "base_uri": "https://localhost:8080/"
        },
        "id": "WA6Pd9CwxLMu",
        "outputId": "052d5152-f56f-4d0b-f43e-cb54d9c3fe09"
      },
      "outputs": [
        {
          "output_type": "stream",
          "name": "stdout",
          "text": [
            "23/23 [==============================] - 0s 11ms/step\n"
          ]
        },
        {
          "output_type": "execute_result",
          "data": {
            "text/plain": [
              "705"
            ]
          },
          "metadata": {},
          "execution_count": 25
        }
      ],
      "source": [
        "predictions_1 = model_1.predict(X_test)\n",
        "predictions_1 = scaler.inverse_transform(predictions_1)\n",
        "len(predictions_1)"
      ]
    },
    {
      "cell_type": "code",
      "execution_count": null,
      "metadata": {
        "id": "uqQQVCbsudiq"
      },
      "outputs": [],
      "source": [
        "#LSTM Model\n",
        "\n",
        "model_2 = Sequential()\n",
        "model_2.add(LSTM(50, return_sequences=True, input_shape=(X_train.shape[1], 1)))\n",
        "model_2.add(Dropout(0.2))\n",
        "model_2.add(LSTM(50, return_sequences=False))\n",
        "model_2.add(Dense(25))\n",
        "model_2.add(Dense(1))\n",
        "\n",
        "model_2.compile(optimizer='adam', loss='mse')\n"
      ]
    },
    {
      "cell_type": "code",
      "execution_count": null,
      "metadata": {
        "colab": {
          "base_uri": "https://localhost:8080/"
        },
        "id": "8XAANoAOukbc",
        "outputId": "6a78949d-11b8-4c71-f05c-eadfd8b66abe"
      },
      "outputs": [
        {
          "output_type": "stream",
          "name": "stdout",
          "text": [
            "Epoch 1/10\n",
            "2760/2760 [==============================] - 30s 9ms/step - loss: 0.0018 - val_loss: 0.0022\n",
            "Epoch 2/10\n",
            "2760/2760 [==============================] - 25s 9ms/step - loss: 8.4776e-04 - val_loss: 8.7078e-04\n",
            "Epoch 3/10\n",
            "2760/2760 [==============================] - 25s 9ms/step - loss: 9.0523e-04 - val_loss: 8.6140e-04\n",
            "Epoch 4/10\n",
            "2760/2760 [==============================] - 25s 9ms/step - loss: 6.2042e-04 - val_loss: 4.4805e-04\n",
            "Epoch 5/10\n",
            "2760/2760 [==============================] - 25s 9ms/step - loss: 5.8017e-04 - val_loss: 0.0024\n",
            "Epoch 6/10\n",
            "2760/2760 [==============================] - 25s 9ms/step - loss: 5.0550e-04 - val_loss: 0.0027\n",
            "Epoch 7/10\n",
            "2760/2760 [==============================] - 23s 8ms/step - loss: 5.6330e-04 - val_loss: 5.2525e-04\n",
            "Epoch 8/10\n",
            "2760/2760 [==============================] - 25s 9ms/step - loss: 5.2468e-04 - val_loss: 0.0014\n",
            "Epoch 9/10\n",
            "2760/2760 [==============================] - 26s 9ms/step - loss: 4.6860e-04 - val_loss: 9.8221e-04\n",
            "Epoch 10/10\n",
            "2760/2760 [==============================] - 25s 9ms/step - loss: 4.3234e-04 - val_loss: 3.7207e-04\n"
          ]
        }
      ],
      "source": [
        "history_2 = model_2.fit(\n",
        "    X_train, y_train,\n",
        "    validation_data=(X_validation, y_validation),\n",
        "    batch_size=1,\n",
        "    epochs=10\n",
        ")"
      ]
    },
    {
      "cell_type": "code",
      "execution_count": null,
      "metadata": {
        "colab": {
          "base_uri": "https://localhost:8080/"
        },
        "id": "MHRJrtA3wuPB",
        "outputId": "2f0dc58c-30cd-423b-9925-14470aeeef17"
      },
      "outputs": [
        {
          "output_type": "stream",
          "name": "stdout",
          "text": [
            "23/23 [==============================] - 1s 4ms/step\n"
          ]
        },
        {
          "output_type": "execute_result",
          "data": {
            "text/plain": [
              "705"
            ]
          },
          "metadata": {},
          "execution_count": 28
        }
      ],
      "source": [
        "predictions_2 = model_2.predict(X_test)\n",
        "predictions_2 = scaler.inverse_transform(predictions_2)\n",
        "len(predictions_2)"
      ]
    },
    {
      "cell_type": "code",
      "execution_count": null,
      "metadata": {
        "id": "PkbYEXfPbmZj"
      },
      "outputs": [],
      "source": [
        "#CNN Model\n",
        "\n",
        "model_3 = Sequential()\n",
        "model_3.add(Conv1D(filters=64, kernel_size=3, activation='relu', input_shape=(X_train.shape[1], 1)))\n",
        "model_3.add(MaxPooling1D(pool_size=2))\n",
        "model_3.add(Dropout(0.2))\n",
        "model_3.add(Flatten())\n",
        "model_3.add(Dense(50, activation='relu'))\n",
        "model_3.add(Dense(1))"
      ]
    },
    {
      "cell_type": "code",
      "execution_count": null,
      "metadata": {
        "colab": {
          "base_uri": "https://localhost:8080/"
        },
        "id": "Fr0Egev8cCLB",
        "outputId": "0814ce4f-3715-494e-87f6-ea0414bf5f86"
      },
      "outputs": [
        {
          "output_type": "stream",
          "name": "stdout",
          "text": [
            "Epoch 1/10\n",
            "2760/2760 [==============================] - 12s 4ms/step - loss: 0.0034 - val_loss: 0.0033\n",
            "Epoch 2/10\n",
            "2760/2760 [==============================] - 10s 4ms/step - loss: 0.0018 - val_loss: 0.0059\n",
            "Epoch 3/10\n",
            "2760/2760 [==============================] - 9s 3ms/step - loss: 0.0017 - val_loss: 0.0029\n",
            "Epoch 4/10\n",
            "2760/2760 [==============================] - 10s 4ms/step - loss: 0.0015 - val_loss: 0.0051\n",
            "Epoch 5/10\n",
            "2760/2760 [==============================] - 10s 3ms/step - loss: 0.0014 - val_loss: 0.0032\n",
            "Epoch 6/10\n",
            "2760/2760 [==============================] - 9s 3ms/step - loss: 0.0013 - val_loss: 0.0025\n",
            "Epoch 7/10\n",
            "2760/2760 [==============================] - 10s 4ms/step - loss: 0.0013 - val_loss: 0.0024\n",
            "Epoch 8/10\n",
            "2760/2760 [==============================] - 10s 3ms/step - loss: 0.0014 - val_loss: 0.0014\n",
            "Epoch 9/10\n",
            "2760/2760 [==============================] - 11s 4ms/step - loss: 0.0012 - val_loss: 0.0023\n",
            "Epoch 10/10\n",
            "2760/2760 [==============================] - 9s 3ms/step - loss: 0.0012 - val_loss: 0.0015\n"
          ]
        }
      ],
      "source": [
        "model_3.compile(optimizer='adam', loss='mse')\n",
        "\n",
        "history_3 = model_3.fit(\n",
        "    X_train, y_train,\n",
        "    validation_data=(X_validation, y_validation),\n",
        "    batch_size=1,\n",
        "    epochs=10\n",
        ")"
      ]
    },
    {
      "cell_type": "code",
      "execution_count": null,
      "metadata": {
        "colab": {
          "base_uri": "https://localhost:8080/"
        },
        "id": "eppWVYrdck5p",
        "outputId": "1970fb6a-934b-4d1e-a070-83064d7cd438"
      },
      "outputs": [
        {
          "output_type": "stream",
          "name": "stdout",
          "text": [
            "23/23 [==============================] - 0s 2ms/step\n"
          ]
        },
        {
          "output_type": "execute_result",
          "data": {
            "text/plain": [
              "705"
            ]
          },
          "metadata": {},
          "execution_count": 31
        }
      ],
      "source": [
        "predictions_3 = model_3.predict(X_test)\n",
        "predictions_3 = scaler.inverse_transform(predictions_3)\n",
        "len(predictions_3)"
      ]
    },
    {
      "cell_type": "code",
      "execution_count": null,
      "metadata": {
        "id": "Q4fOsUM_Byc1"
      },
      "outputs": [],
      "source": [
        "#CNN-LSTM Model\n",
        "\n",
        "model_4 = Sequential()\n",
        "model_4.add(Conv1D(filters=64, kernel_size=3, activation='relu', input_shape=(X_train.shape[1], 1)))\n",
        "model_4.add(MaxPooling1D(pool_size=2))\n",
        "model_4.add(LSTM(50, return_sequences=True))\n",
        "model_4.add(Dropout(0.2))\n",
        "model_4.add(LSTM(50, return_sequences=False))\n",
        "model_4.add(Dense(25))\n",
        "model_4.add(Dense(1))\n",
        "\n",
        "model_4.compile(optimizer='adam', loss='mse')"
      ]
    },
    {
      "cell_type": "code",
      "execution_count": null,
      "metadata": {
        "colab": {
          "base_uri": "https://localhost:8080/"
        },
        "id": "2Nlytoj8DeS_",
        "outputId": "c3f123fc-9c6e-4626-c153-11c2d8e75f59"
      },
      "outputs": [
        {
          "output_type": "stream",
          "name": "stdout",
          "text": [
            "Epoch 1/10\n",
            "2760/2760 [==============================] - 28s 8ms/step - loss: 0.0025 - val_loss: 0.0039\n",
            "Epoch 2/10\n",
            "2760/2760 [==============================] - 24s 9ms/step - loss: 0.0012 - val_loss: 7.5505e-04\n",
            "Epoch 3/10\n",
            "2760/2760 [==============================] - 23s 8ms/step - loss: 0.0012 - val_loss: 7.6924e-04\n",
            "Epoch 4/10\n",
            "2760/2760 [==============================] - 24s 9ms/step - loss: 9.0910e-04 - val_loss: 0.0019\n",
            "Epoch 5/10\n",
            "2760/2760 [==============================] - 23s 8ms/step - loss: 7.6327e-04 - val_loss: 8.3387e-04\n",
            "Epoch 6/10\n",
            "2760/2760 [==============================] - 23s 8ms/step - loss: 6.8640e-04 - val_loss: 6.4260e-04\n",
            "Epoch 7/10\n",
            "2760/2760 [==============================] - 23s 8ms/step - loss: 6.1747e-04 - val_loss: 0.0020\n",
            "Epoch 8/10\n",
            "2760/2760 [==============================] - 22s 8ms/step - loss: 5.9159e-04 - val_loss: 0.0012\n",
            "Epoch 9/10\n",
            "2760/2760 [==============================] - 23s 8ms/step - loss: 5.2278e-04 - val_loss: 3.8333e-04\n",
            "Epoch 10/10\n",
            "2760/2760 [==============================] - 22s 8ms/step - loss: 5.3163e-04 - val_loss: 5.3496e-04\n"
          ]
        }
      ],
      "source": [
        "model_4.compile(optimizer='adam', loss='mse')\n",
        "\n",
        "history_4 = model_4.fit(\n",
        "    X_train, y_train,\n",
        "    validation_data=(X_validation, y_validation),\n",
        "    batch_size=1,\n",
        "    epochs=10\n",
        ")"
      ]
    },
    {
      "cell_type": "code",
      "execution_count": null,
      "metadata": {
        "colab": {
          "base_uri": "https://localhost:8080/"
        },
        "id": "uF5duvHmJh6_",
        "outputId": "28a6d47c-61fa-49dd-f988-d24008d3f638"
      },
      "outputs": [
        {
          "output_type": "stream",
          "name": "stdout",
          "text": [
            "23/23 [==============================] - 1s 3ms/step\n"
          ]
        },
        {
          "output_type": "execute_result",
          "data": {
            "text/plain": [
              "705"
            ]
          },
          "metadata": {},
          "execution_count": 34
        }
      ],
      "source": [
        "predictions_4 = model_4.predict(X_test)\n",
        "predictions_4 = scaler.inverse_transform(predictions_4)\n",
        "len(predictions_4)"
      ]
    },
    {
      "cell_type": "code",
      "execution_count": null,
      "metadata": {
        "id": "w94vCv-tDfxs"
      },
      "outputs": [],
      "source": [
        "#Bi-LSTM Model\n",
        "\n",
        "model_5 = Sequential()\n",
        "model_5.add(Bidirectional(LSTM(50, return_sequences=True), input_shape=(X_train.shape[1], 1)))\n",
        "model_5.add(Dropout(0.2))\n",
        "model_5.add(Bidirectional(LSTM(50, return_sequences=False)))\n",
        "model_5.add(Dense(25))\n",
        "model_5.add(Dense(1))\n",
        "\n",
        "model_5.compile(optimizer='adam', loss='mse')"
      ]
    },
    {
      "cell_type": "code",
      "execution_count": null,
      "metadata": {
        "colab": {
          "base_uri": "https://localhost:8080/"
        },
        "id": "_7F8IxpBGT1n",
        "outputId": "f4ca08af-8363-45ff-c25e-212c428b2952"
      },
      "outputs": [
        {
          "output_type": "stream",
          "name": "stdout",
          "text": [
            "Epoch 1/10\n",
            "2760/2760 [==============================] - 52s 16ms/step - loss: 0.0014 - val_loss: 3.6904e-04\n",
            "Epoch 2/10\n",
            "2760/2760 [==============================] - 43s 16ms/step - loss: 7.3297e-04 - val_loss: 2.8607e-04\n",
            "Epoch 3/10\n",
            "2760/2760 [==============================] - 43s 16ms/step - loss: 6.7911e-04 - val_loss: 3.2539e-04\n",
            "Epoch 4/10\n",
            "2760/2760 [==============================] - 43s 16ms/step - loss: 4.8204e-04 - val_loss: 4.1990e-04\n",
            "Epoch 5/10\n",
            "2760/2760 [==============================] - 45s 16ms/step - loss: 5.4625e-04 - val_loss: 4.3614e-04\n",
            "Epoch 6/10\n",
            "2760/2760 [==============================] - 46s 17ms/step - loss: 4.6972e-04 - val_loss: 2.6550e-04\n",
            "Epoch 7/10\n",
            "2760/2760 [==============================] - 44s 16ms/step - loss: 4.2757e-04 - val_loss: 0.0082\n",
            "Epoch 8/10\n",
            "2760/2760 [==============================] - 43s 15ms/step - loss: 4.3991e-04 - val_loss: 6.7781e-04\n",
            "Epoch 9/10\n",
            "2760/2760 [==============================] - 42s 15ms/step - loss: 4.3280e-04 - val_loss: 8.5030e-04\n",
            "Epoch 10/10\n",
            "2760/2760 [==============================] - 42s 15ms/step - loss: 3.7782e-04 - val_loss: 8.7713e-04\n"
          ]
        }
      ],
      "source": [
        "history_5 = model_5.fit(\n",
        "    X_train, y_train,\n",
        "    validation_data=(X_validation, y_validation),\n",
        "    batch_size=1,\n",
        "    epochs=10\n",
        ")"
      ]
    },
    {
      "cell_type": "code",
      "execution_count": null,
      "metadata": {
        "colab": {
          "base_uri": "https://localhost:8080/"
        },
        "id": "5Dq81DKPJsoQ",
        "outputId": "a633d5db-6f79-4e10-9db9-fdac446ffb58"
      },
      "outputs": [
        {
          "output_type": "stream",
          "name": "stdout",
          "text": [
            "23/23 [==============================] - 2s 9ms/step\n"
          ]
        },
        {
          "output_type": "execute_result",
          "data": {
            "text/plain": [
              "705"
            ]
          },
          "metadata": {},
          "execution_count": 37
        }
      ],
      "source": [
        "predictions_5 = model_5.predict(X_test)\n",
        "predictions_5 = scaler.inverse_transform(predictions_5)\n",
        "len(predictions_5)"
      ]
    },
    {
      "cell_type": "code",
      "execution_count": null,
      "metadata": {
        "id": "A3rNyrgvJBRG"
      },
      "outputs": [],
      "source": [
        "#CNN-BiLSTM Model\n",
        "\n",
        "model_6 = Sequential()\n",
        "model_6.add(Conv1D(filters=64, kernel_size=3, activation='relu', input_shape=(X_train.shape[1], 1)))\n",
        "model_6.add(MaxPooling1D(pool_size=2))\n",
        "model_6.add(Bidirectional(LSTM(50, return_sequences=True)))\n",
        "model_6.add(Dropout(0.2))\n",
        "model_6.add(Bidirectional(LSTM(50, return_sequences=False)))\n",
        "model_6.add(Dense(25))\n",
        "model_6.add(Dense(1))\n",
        "\n",
        "model_6.compile(optimizer='adam', loss='mse')"
      ]
    },
    {
      "cell_type": "code",
      "execution_count": null,
      "metadata": {
        "id": "fwVY_Fl_JEXw",
        "colab": {
          "base_uri": "https://localhost:8080/"
        },
        "outputId": "0f9923ed-6d49-4f87-f440-3fadae425edc"
      },
      "outputs": [
        {
          "output_type": "stream",
          "name": "stdout",
          "text": [
            "Epoch 1/10\n",
            "2760/2760 [==============================] - 44s 14ms/step - loss: 0.0022 - val_loss: 0.0042\n",
            "Epoch 2/10\n",
            "2760/2760 [==============================] - 36s 13ms/step - loss: 0.0011 - val_loss: 0.0038\n",
            "Epoch 3/10\n",
            "2760/2760 [==============================] - 34s 12ms/step - loss: 8.6085e-04 - val_loss: 0.0022\n",
            "Epoch 4/10\n",
            "2760/2760 [==============================] - 33s 12ms/step - loss: 8.9713e-04 - val_loss: 0.0012\n",
            "Epoch 5/10\n",
            "2760/2760 [==============================] - 33s 12ms/step - loss: 7.0717e-04 - val_loss: 0.0020\n",
            "Epoch 6/10\n",
            "2760/2760 [==============================] - 33s 12ms/step - loss: 6.2843e-04 - val_loss: 6.4654e-04\n",
            "Epoch 7/10\n",
            "2760/2760 [==============================] - 34s 12ms/step - loss: 6.3548e-04 - val_loss: 0.0075\n",
            "Epoch 8/10\n",
            "2760/2760 [==============================] - 35s 13ms/step - loss: 5.2584e-04 - val_loss: 0.0035\n",
            "Epoch 9/10\n",
            "2760/2760 [==============================] - 35s 13ms/step - loss: 5.7657e-04 - val_loss: 4.4736e-04\n",
            "Epoch 10/10\n",
            "2760/2760 [==============================] - 36s 13ms/step - loss: 4.9453e-04 - val_loss: 0.0021\n"
          ]
        }
      ],
      "source": [
        "history_6 = model_6.fit(\n",
        "    X_train, y_train,\n",
        "    validation_data=(X_validation, y_validation),\n",
        "    batch_size=1,\n",
        "    epochs=10\n",
        ")"
      ]
    },
    {
      "cell_type": "code",
      "execution_count": null,
      "metadata": {
        "id": "zZNXunyLJyLM",
        "colab": {
          "base_uri": "https://localhost:8080/"
        },
        "outputId": "b29c1fae-5e7f-4392-ca85-47bc822f8409"
      },
      "outputs": [
        {
          "output_type": "stream",
          "name": "stdout",
          "text": [
            "23/23 [==============================] - 1s 5ms/step\n"
          ]
        },
        {
          "output_type": "execute_result",
          "data": {
            "text/plain": [
              "705"
            ]
          },
          "metadata": {},
          "execution_count": 40
        }
      ],
      "source": [
        "predictions_6 = model_6.predict(X_test)\n",
        "predictions_6 = scaler.inverse_transform(predictions_6)\n",
        "len(predictions_6)"
      ]
    },
    {
      "cell_type": "code",
      "execution_count": null,
      "metadata": {
        "id": "gm3xF_cLFvYJ"
      },
      "outputs": [],
      "source": [
        "# GRU Model\n",
        "model_7 = Sequential()\n",
        "model_7.add(GRU(50, return_sequences=True, input_shape=(X_train.shape[1], 1)))\n",
        "model_7.add(Dropout(0.2))\n",
        "model_7.add(GRU(50, return_sequences=False))\n",
        "model_7.add(Dense(25))\n",
        "model_7.add(Dense(1))"
      ]
    },
    {
      "cell_type": "code",
      "execution_count": null,
      "metadata": {
        "id": "z769vjtCFwYJ",
        "colab": {
          "base_uri": "https://localhost:8080/"
        },
        "outputId": "86968d2b-5400-42fb-bdeb-df81e455722f"
      },
      "outputs": [
        {
          "output_type": "stream",
          "name": "stdout",
          "text": [
            "Epoch 1/10\n",
            "2760/2760 [==============================] - 27s 9ms/step - loss: 0.0017 - val_loss: 0.0061\n",
            "Epoch 2/10\n",
            "2760/2760 [==============================] - 24s 9ms/step - loss: 8.2447e-04 - val_loss: 3.0358e-04\n",
            "Epoch 3/10\n",
            "2760/2760 [==============================] - 24s 9ms/step - loss: 7.6175e-04 - val_loss: 2.9228e-04\n",
            "Epoch 4/10\n",
            "2760/2760 [==============================] - 23s 8ms/step - loss: 5.8726e-04 - val_loss: 4.4775e-04\n",
            "Epoch 5/10\n",
            "2760/2760 [==============================] - 25s 9ms/step - loss: 5.9884e-04 - val_loss: 5.6671e-04\n",
            "Epoch 6/10\n",
            "2760/2760 [==============================] - 24s 9ms/step - loss: 4.5506e-04 - val_loss: 0.0013\n",
            "Epoch 7/10\n",
            "2760/2760 [==============================] - 24s 9ms/step - loss: 4.8038e-04 - val_loss: 2.7163e-04\n",
            "Epoch 8/10\n",
            "2760/2760 [==============================] - 23s 8ms/step - loss: 4.1430e-04 - val_loss: 4.2203e-04\n",
            "Epoch 9/10\n",
            "2760/2760 [==============================] - 25s 9ms/step - loss: 4.1341e-04 - val_loss: 3.8033e-04\n",
            "Epoch 10/10\n",
            "2760/2760 [==============================] - 24s 9ms/step - loss: 4.2652e-04 - val_loss: 6.8701e-04\n"
          ]
        }
      ],
      "source": [
        "model_7.compile(optimizer='adam', loss='mse')\n",
        "\n",
        "history_7 = model_7.fit(\n",
        "    X_train, y_train,\n",
        "    validation_data=(X_validation, y_validation),\n",
        "    batch_size=1,\n",
        "    epochs=10\n",
        ")"
      ]
    },
    {
      "cell_type": "code",
      "execution_count": null,
      "metadata": {
        "id": "fP6WxMauF2l4",
        "colab": {
          "base_uri": "https://localhost:8080/"
        },
        "outputId": "4cb62b20-7506-4d7d-ada1-f9b82feac478"
      },
      "outputs": [
        {
          "output_type": "stream",
          "name": "stdout",
          "text": [
            "23/23 [==============================] - 1s 4ms/step\n"
          ]
        },
        {
          "output_type": "execute_result",
          "data": {
            "text/plain": [
              "705"
            ]
          },
          "metadata": {},
          "execution_count": 43
        }
      ],
      "source": [
        "predictions_7 = model_7.predict(X_test)\n",
        "predictions_7 = scaler.inverse_transform(predictions_7)\n",
        "len(predictions_7)"
      ]
    },
    {
      "cell_type": "code",
      "execution_count": null,
      "metadata": {
        "id": "YBwGRXP7of8e",
        "colab": {
          "base_uri": "https://localhost:8080/",
          "height": 74
        },
        "outputId": "2e3cd361-eb9b-4b39-b3b5-9c255c7dc61d"
      },
      "outputs": [
        {
          "output_type": "execute_result",
          "data": {
            "text/plain": [
              "RandomForestRegressor(random_state=42)"
            ],
            "text/html": [
              "<style>#sk-container-id-1 {color: black;background-color: white;}#sk-container-id-1 pre{padding: 0;}#sk-container-id-1 div.sk-toggleable {background-color: white;}#sk-container-id-1 label.sk-toggleable__label {cursor: pointer;display: block;width: 100%;margin-bottom: 0;padding: 0.3em;box-sizing: border-box;text-align: center;}#sk-container-id-1 label.sk-toggleable__label-arrow:before {content: \"▸\";float: left;margin-right: 0.25em;color: #696969;}#sk-container-id-1 label.sk-toggleable__label-arrow:hover:before {color: black;}#sk-container-id-1 div.sk-estimator:hover label.sk-toggleable__label-arrow:before {color: black;}#sk-container-id-1 div.sk-toggleable__content {max-height: 0;max-width: 0;overflow: hidden;text-align: left;background-color: #f0f8ff;}#sk-container-id-1 div.sk-toggleable__content pre {margin: 0.2em;color: black;border-radius: 0.25em;background-color: #f0f8ff;}#sk-container-id-1 input.sk-toggleable__control:checked~div.sk-toggleable__content {max-height: 200px;max-width: 100%;overflow: auto;}#sk-container-id-1 input.sk-toggleable__control:checked~label.sk-toggleable__label-arrow:before {content: \"▾\";}#sk-container-id-1 div.sk-estimator input.sk-toggleable__control:checked~label.sk-toggleable__label {background-color: #d4ebff;}#sk-container-id-1 div.sk-label input.sk-toggleable__control:checked~label.sk-toggleable__label {background-color: #d4ebff;}#sk-container-id-1 input.sk-hidden--visually {border: 0;clip: rect(1px 1px 1px 1px);clip: rect(1px, 1px, 1px, 1px);height: 1px;margin: -1px;overflow: hidden;padding: 0;position: absolute;width: 1px;}#sk-container-id-1 div.sk-estimator {font-family: monospace;background-color: #f0f8ff;border: 1px dotted black;border-radius: 0.25em;box-sizing: border-box;margin-bottom: 0.5em;}#sk-container-id-1 div.sk-estimator:hover {background-color: #d4ebff;}#sk-container-id-1 div.sk-parallel-item::after {content: \"\";width: 100%;border-bottom: 1px solid gray;flex-grow: 1;}#sk-container-id-1 div.sk-label:hover label.sk-toggleable__label {background-color: #d4ebff;}#sk-container-id-1 div.sk-serial::before {content: \"\";position: absolute;border-left: 1px solid gray;box-sizing: border-box;top: 0;bottom: 0;left: 50%;z-index: 0;}#sk-container-id-1 div.sk-serial {display: flex;flex-direction: column;align-items: center;background-color: white;padding-right: 0.2em;padding-left: 0.2em;position: relative;}#sk-container-id-1 div.sk-item {position: relative;z-index: 1;}#sk-container-id-1 div.sk-parallel {display: flex;align-items: stretch;justify-content: center;background-color: white;position: relative;}#sk-container-id-1 div.sk-item::before, #sk-container-id-1 div.sk-parallel-item::before {content: \"\";position: absolute;border-left: 1px solid gray;box-sizing: border-box;top: 0;bottom: 0;left: 50%;z-index: -1;}#sk-container-id-1 div.sk-parallel-item {display: flex;flex-direction: column;z-index: 1;position: relative;background-color: white;}#sk-container-id-1 div.sk-parallel-item:first-child::after {align-self: flex-end;width: 50%;}#sk-container-id-1 div.sk-parallel-item:last-child::after {align-self: flex-start;width: 50%;}#sk-container-id-1 div.sk-parallel-item:only-child::after {width: 0;}#sk-container-id-1 div.sk-dashed-wrapped {border: 1px dashed gray;margin: 0 0.4em 0.5em 0.4em;box-sizing: border-box;padding-bottom: 0.4em;background-color: white;}#sk-container-id-1 div.sk-label label {font-family: monospace;font-weight: bold;display: inline-block;line-height: 1.2em;}#sk-container-id-1 div.sk-label-container {text-align: center;}#sk-container-id-1 div.sk-container {/* jupyter's `normalize.less` sets `[hidden] { display: none; }` but bootstrap.min.css set `[hidden] { display: none !important; }` so we also need the `!important` here to be able to override the default hidden behavior on the sphinx rendered scikit-learn.org. See: https://github.com/scikit-learn/scikit-learn/issues/21755 */display: inline-block !important;position: relative;}#sk-container-id-1 div.sk-text-repr-fallback {display: none;}</style><div id=\"sk-container-id-1\" class=\"sk-top-container\"><div class=\"sk-text-repr-fallback\"><pre>RandomForestRegressor(random_state=42)</pre><b>In a Jupyter environment, please rerun this cell to show the HTML representation or trust the notebook. <br />On GitHub, the HTML representation is unable to render, please try loading this page with nbviewer.org.</b></div><div class=\"sk-container\" hidden><div class=\"sk-item\"><div class=\"sk-estimator sk-toggleable\"><input class=\"sk-toggleable__control sk-hidden--visually\" id=\"sk-estimator-id-1\" type=\"checkbox\" checked><label for=\"sk-estimator-id-1\" class=\"sk-toggleable__label sk-toggleable__label-arrow\">RandomForestRegressor</label><div class=\"sk-toggleable__content\"><pre>RandomForestRegressor(random_state=42)</pre></div></div></div></div></div>"
            ]
          },
          "metadata": {},
          "execution_count": 44
        }
      ],
      "source": [
        "#Random Forest Model\n",
        "\n",
        "rf_model = RandomForestRegressor(n_estimators=100, random_state=42)\n",
        "rf_model.fit(X_train.reshape(X_train.shape[0], X_train.shape[1]), y_train.ravel())"
      ]
    },
    {
      "cell_type": "code",
      "execution_count": null,
      "metadata": {
        "id": "7UdQlnhZuZxP"
      },
      "outputs": [],
      "source": [
        "predictions_rf = rf_model.predict(X_test.reshape(X_test.shape[0], X_test.shape[1]))\n",
        "predictions_rf = predictions_rf.reshape(-1, 1)  # Reshape to 2D\n",
        "predictions_rf = scaler.inverse_transform(predictions_rf)"
      ]
    },
    {
      "cell_type": "code",
      "execution_count": null,
      "metadata": {
        "id": "gE3kPz2UKZ93"
      },
      "outputs": [],
      "source": [
        "# SVM Model\n",
        "svm_model = SVR(kernel='rbf')\n",
        "X_train_reshape = X_train.reshape(X_train.shape[0], X_train.shape[1])\n",
        "\n",
        "svm_model.fit(X_train_reshape, y_train.ravel())\n",
        "X_test_reshape = X_test.reshape(X_test.shape[0], X_test.shape[1])"
      ]
    },
    {
      "cell_type": "code",
      "execution_count": null,
      "metadata": {
        "id": "nqjkqHCYg5jY"
      },
      "outputs": [],
      "source": [
        "predictions_svm = svm_model.predict(X_test_reshape)\n",
        "predictions_svm = predictions_svm.reshape(-1, 1)\n",
        "predictions_svm = scaler.inverse_transform(predictions_svm)"
      ]
    },
    {
      "cell_type": "code",
      "execution_count": null,
      "metadata": {
        "id": "_o8hPprkwykM",
        "colab": {
          "base_uri": "https://localhost:8080/"
        },
        "outputId": "b1554acc-7947-4ab5-eaa0-fec2e4b003aa"
      },
      "outputs": [
        {
          "output_type": "stream",
          "name": "stdout",
          "text": [
            "RMSE results\n",
            "RNN Model: 1537.6240382251772\n",
            "LSTM Model: 578.8960018776596\n",
            "CNN Model: 347.53766577393617\n",
            "CNN-LSTM Model: 622.866053474734\n",
            "Bi-LSTM Model: 1601.4059789512412\n",
            "CNN-BiLSTM Model: 3032.36398170922\n",
            "GRU Model: 1520.1395357872339\n",
            "Random Forest Model: 1552.500574160287\n",
            "SVM Model: 2081.18162433303\n"
          ]
        }
      ],
      "source": [
        "# Calculating RMSE Error\n",
        "rmse_1 = np.sqrt(np.mean(predictions_1 - y_test)**2)\n",
        "rmse_2 = np.sqrt(np.mean(predictions_2 - y_test)**2)\n",
        "rmse_3 = np.sqrt(np.mean(predictions_3 - y_test)**2)\n",
        "rmse_4 = np.sqrt(np.mean(predictions_4 - y_test)**2)\n",
        "rmse_5 = np.sqrt(np.mean(predictions_5 - y_test)**2)\n",
        "rmse_6 = np.sqrt(np.mean(predictions_6 - y_test)**2)\n",
        "rmse_7 = np.sqrt(np.mean(predictions_7 - y_test)**2)\n",
        "rmse_rf = np.sqrt(np.mean(predictions_rf - y_test)**2)\n",
        "rmse_svm = np.sqrt(np.mean(predictions_svm - y_test)**2)\n",
        "\n",
        "print(\"RMSE results\")\n",
        "print(\"RNN Model:\", rmse_1)\n",
        "print(\"LSTM Model:\", rmse_2)\n",
        "print(\"CNN Model:\", rmse_3)\n",
        "print(\"CNN-LSTM Model:\", rmse_4)\n",
        "print(\"Bi-LSTM Model:\", rmse_5)\n",
        "print(\"CNN-BiLSTM Model:\", rmse_6)\n",
        "print(\"GRU Model:\", rmse_7)\n",
        "print(\"Random Forest Model:\", rmse_rf)\n",
        "print(\"SVM Model:\", rmse_svm)"
      ]
    },
    {
      "cell_type": "code",
      "execution_count": null,
      "metadata": {
        "id": "Zpd6fikrw1Fo",
        "colab": {
          "base_uri": "https://localhost:8080/",
          "height": 733
        },
        "outputId": "46fda1f5-fe0e-4941-91e0-934c5053c384"
      },
      "outputs": [
        {
          "output_type": "display_data",
          "data": {
            "text/plain": [
              "<Figure size 1600x1000 with 1 Axes>"
            ],
            "image/png": "[encoded data removed]"
          },
          "metadata": {}
        }
      ],
      "source": [
        "plt.figure(figsize=(16,10))\n",
        "plt.plot(history_1.history['loss'], label='SimpleRNN Training Loss', linestyle='--', color='blue')\n",
        "plt.plot(history_1.history['val_loss'], label='SimpleRNN Validation Loss', linestyle='-', color='blue')\n",
        "plt.plot(history_2.history['loss'], label='LSTM Training Loss', linestyle='--', color='red')\n",
        "plt.plot(history_2.history['val_loss'], label='LSTM Validation Loss', linestyle='-', color='red')\n",
        "plt.plot(history_3.history['loss'], label='CNN Training Loss', linestyle='--', color='black')\n",
        "plt.plot(history_3.history['val_loss'], label='CNN Validation Loss', linestyle='-', color='black')\n",
        "plt.plot(history_4.history['loss'], label='CNN-LSTM Training Loss', linestyle='--', color='green')\n",
        "plt.plot(history_4.history['val_loss'], label='CNN-LSTM Validation Loss', linestyle='-', color='green')\n",
        "plt.plot(history_5.history['loss'], label='Bi-LSTM Training Loss', linestyle='--', color='purple')\n",
        "plt.plot(history_5.history['val_loss'], label='Bi-LSTM Validation Loss', linestyle='-', color='purple')\n",
        "plt.plot(history_6.history['loss'], label='CNN-Bi-LSTM Training Loss', linestyle='--', color='orange')\n",
        "plt.plot(history_6.history['val_loss'], label='CNN-Bi-LSTM Validation Loss', linestyle='-', color='orange')\n",
        "plt.plot(history_7.history['loss'], label='GRU Training Loss', linestyle='--', color='cyan')\n",
        "plt.plot(history_7.history['val_loss'], label='GRU Validation Loss', linestyle='-', color='cyan')\n",
        "#plt.axhline(y=rmse_svm, color='cyan', linestyle='-', label='SVM Loss')\n",
        "\n",
        "plt.title('Different Model Loss vs. Epochs')\n",
        "plt.xlabel('Epochs')\n",
        "plt.ylabel('Loss')\n",
        "plt.legend()\n",
        "plt.show()"
      ]
    },
    {
      "cell_type": "code",
      "execution_count": null,
      "metadata": {
        "id": "TeIBihIpHQly",
        "colab": {
          "base_uri": "https://localhost:8080/"
        },
        "outputId": "37dd09fd-f6b5-4852-a80b-79bfeccfe1a1"
      },
      "outputs": [
        {
          "output_type": "stream",
          "name": "stdout",
          "text": [
            "R^2 results\n",
            "RNN Model: 0.9741020895349333\n",
            "LSTM Model: 0.9900319006709591\n",
            "CNN Model: 0.9536549294740789\n",
            "CNN-LSTM Model: 0.9862718737104608\n",
            "Bi-LSTM Model: 0.9784832146051721\n",
            "CNN-BiLSTM Model: 0.9426496610825915\n",
            "GRU Model: 0.9818418805274431\n",
            "Random Forest Model: 0.9584832107158742\n",
            "SVM Model: 0.8093486026167921\n",
            "\n",
            "Adjacent R^2 results\n",
            "RNN Model: 0.9766564432750012\n",
            "LSTM Model: 0.9941713031014142\n",
            "CNN Model: 0.9585244516448271\n",
            "CNN-LSTM Model: 0.9902238559661383\n",
            "Bi-LSTM Model: 0.9837474878245727\n",
            "CNN-BiLSTM Model: 0.9449342758795279\n",
            "GRU Model: 0.985433422507201\n",
            "Random Forest Model: 0.961368432749857\n",
            "SVM Model: 0.8090646574153572\n"
          ]
        }
      ],
      "source": [
        "def calculate_r2(y_true, predictions):\n",
        "    r2 = r2_score(y_true, predictions)\n",
        "    adjacent_r2 = r2_score(y_true[:-1], predictions[1:])\n",
        "    return r2, adjacent_r2\n",
        "\n",
        "# Calculating R-squared\n",
        "r2_1, adjacent_r2_1 = calculate_r2(y_test, predictions_1)\n",
        "r2_2, adjacent_r2_2 = calculate_r2(y_test, predictions_2)\n",
        "r2_3, adjacent_r2_3 = calculate_r2(y_test, predictions_3)\n",
        "r2_4, adjacent_r2_4 = calculate_r2(y_test, predictions_4)\n",
        "r2_5, adjacent_r2_5 = calculate_r2(y_test, predictions_5)\n",
        "r2_6, adjacent_r2_6 = calculate_r2(y_test, predictions_6)\n",
        "r2_7, adjacent_r2_7 = calculate_r2(y_test, predictions_7)\n",
        "r2_rf, adjacent_r2_rf = calculate_r2(y_test, predictions_rf)\n",
        "r2_svm, adjacent_r2_svm = calculate_r2(y_test, predictions_svm)\n",
        "\n",
        "# Print R-squared errors\n",
        "print(\"R^2 results\")\n",
        "print(\"RNN Model:\", r2_1)\n",
        "print(\"LSTM Model:\", r2_2)\n",
        "print(\"CNN Model:\", r2_3)\n",
        "print(\"CNN-LSTM Model:\", r2_4)\n",
        "print(\"Bi-LSTM Model:\", r2_5)\n",
        "print(\"CNN-BiLSTM Model:\", r2_6)\n",
        "print(\"GRU Model:\", r2_7)\n",
        "print(\"Random Forest Model:\", r2_rf)\n",
        "print(\"SVM Model:\", r2_svm)\n",
        "\n",
        "# Print adjacent R-squared errors\n",
        "print(\"\\nAdjacent R^2 results\")\n",
        "print(\"RNN Model:\", adjacent_r2_1)\n",
        "print(\"LSTM Model:\", adjacent_r2_2)\n",
        "print(\"CNN Model:\", adjacent_r2_3)\n",
        "print(\"CNN-LSTM Model:\", adjacent_r2_4)\n",
        "print(\"Bi-LSTM Model:\", adjacent_r2_5)\n",
        "print(\"CNN-BiLSTM Model:\", adjacent_r2_6)\n",
        "print(\"GRU Model:\", adjacent_r2_7)\n",
        "print(\"Random Forest Model:\", adjacent_r2_rf)\n",
        "print(\"SVM Model:\", adjacent_r2_svm)"
      ]
    },
    {
      "cell_type": "code",
      "execution_count": null,
      "metadata": {
        "id": "pJJ8oxiKOzPG",
        "colab": {
          "base_uri": "https://localhost:8080/"
        },
        "outputId": "de41edba-aafc-400c-fbc8-6306c89e09d3"
      },
      "outputs": [
        {
          "output_type": "stream",
          "name": "stdout",
          "text": [
            "MAE results\n",
            "RNN Model: 1991.353088695035\n",
            "LSTM Model: 1121.310380432624\n",
            "CNN Model: 2357.21840114805\n",
            "CNN-LSTM Model: 1085.1414051156917\n",
            "Bi-LSTM Model: 1668.6084030593972\n",
            "CNN-BiLSTM Model: 3182.319960379433\n",
            "GRU Model: 1684.036599251773\n",
            "Random Forest Model: 2387.324881135885\n",
            "SVM Model: 4976.4688784089585\n",
            "\n",
            "MAPE results\n",
            "RNN Model: 6.5331308942201485\n",
            "LSTM Model: 3.8092541282859957\n",
            "CNN Model: 8.394331337309255\n",
            "CNN-LSTM Model: 3.215923572390319\n",
            "Bi-LSTM Model: 5.207509415932854\n",
            "CNN-BiLSTM Model: 12.170207439794012\n",
            "GRU Model: 5.911586222111452\n",
            "Random Forest Model: 9.374246649380806\n",
            "SVM Model: 17.289798189379265\n"
          ]
        }
      ],
      "source": [
        "# Calculating MAE\n",
        "mae_1 = mean_absolute_error(y_test, predictions_1)\n",
        "mae_2 = mean_absolute_error(y_test, predictions_2)\n",
        "mae_3 = mean_absolute_error(y_test, predictions_3)\n",
        "mae_4 = mean_absolute_error(y_test, predictions_4)\n",
        "mae_5 = mean_absolute_error(y_test, predictions_5)\n",
        "mae_6 = mean_absolute_error(y_test, predictions_6)\n",
        "mae_7 = mean_absolute_error(y_test, predictions_7)\n",
        "mae_rf = mean_absolute_error(y_test, predictions_rf)\n",
        "mae_svm = mean_absolute_error(y_test, predictions_svm)\n",
        "\n",
        "# Print MAE for each model\n",
        "print(\"MAE results\")\n",
        "print(\"RNN Model:\", mae_1)\n",
        "print(\"LSTM Model:\", mae_2)\n",
        "print(\"CNN Model:\", mae_3)\n",
        "print(\"CNN-LSTM Model:\", mae_4)\n",
        "print(\"Bi-LSTM Model:\", mae_5)\n",
        "print(\"CNN-BiLSTM Model:\", mae_6)\n",
        "print(\"GRU Model:\", mae_7)\n",
        "print(\"Random Forest Model:\", mae_rf)\n",
        "print(\"SVM Model:\", mae_svm)\n",
        "\n",
        "# Calculating MAPE for each model\n",
        "def mean_absolute_percentage_error(y_true, y_pred):\n",
        "    y_true, y_pred = np.array(y_true), np.array(y_pred)\n",
        "    return np.mean(np.abs((y_true - y_pred) / y_true)) * 100\n",
        "\n",
        "mape_1 = mean_absolute_percentage_error(y_test, predictions_1)\n",
        "mape_2 = mean_absolute_percentage_error(y_test, predictions_2)\n",
        "mape_3 = mean_absolute_percentage_error(y_test, predictions_3)\n",
        "mape_4 = mean_absolute_percentage_error(y_test, predictions_4)\n",
        "mape_5 = mean_absolute_percentage_error(y_test, predictions_5)\n",
        "mape_6 = mean_absolute_percentage_error(y_test, predictions_6)\n",
        "mape_7 = mean_absolute_percentage_error(y_test, predictions_7)\n",
        "mape_rf = mean_absolute_percentage_error(y_test, predictions_rf)\n",
        "mape_svm = mean_absolute_percentage_error(y_test, predictions_svm)\n",
        "\n",
        "# Print MAPE for each model\n",
        "print(\"\\nMAPE results\")\n",
        "print(\"RNN Model:\", mape_1)\n",
        "print(\"LSTM Model:\", mape_2)\n",
        "print(\"CNN Model:\", mape_3)\n",
        "print(\"CNN-LSTM Model:\", mape_4)\n",
        "print(\"Bi-LSTM Model:\", mape_5)\n",
        "print(\"CNN-BiLSTM Model:\", mape_6)\n",
        "print(\"GRU Model:\", mape_7)\n",
        "print(\"Random Forest Model:\", mape_rf)\n",
        "print(\"SVM Model:\", mape_svm)"
      ]
    },
    {
      "cell_type": "code",
      "execution_count": null,
      "metadata": {
        "id": "ynl26-pxypC8",
        "colab": {
          "base_uri": "https://localhost:8080/"
        },
        "outputId": "224ecad6-0584-4a12-e6dc-02062d2fb77c"
      },
      "outputs": [
        {
          "output_type": "stream",
          "name": "stdout",
          "text": [
            "1/1 [==============================] - 0s 26ms/step\n",
            "1/1 [==============================] - 0s 28ms/step\n",
            "1/1 [==============================] - 0s 18ms/step\n",
            "1/1 [==============================] - 0s 19ms/step\n",
            "1/1 [==============================] - 0s 22ms/step\n",
            "1/1 [==============================] - 0s 21ms/step\n",
            "1/1 [==============================] - 0s 19ms/step\n",
            "RNN Model predicted price: [[59906.29]]\n",
            "LSTM Model predicted price: [[61404.08]]\n",
            "CNN Model predicted price: [[64658.02]]\n",
            "CNN-LSTM Model predicted price: [[61761.805]]\n",
            "Bi-LSTM Model predicted price: [[61108.324]]\n",
            "CNN-BiLSTM Model predicted price: [[62571.754]]\n",
            "GRU Model predicted price: [[61977.63]]\n",
            "Random Forest Model predicted price: [[62088.98051933]]\n",
            "SVM Model predicted price: [[64188.92637955]]\n"
          ]
        }
      ],
      "source": [
        "last_60_days = data[-60:].values\n",
        "last_60_days_scaled = scaler.fit_transform(last_60_days)\n",
        "new_X_test = []\n",
        "new_X_test.append(last_60_days_scaled)\n",
        "new_X_test = np.array(new_X_test)\n",
        "new_X_test = np.reshape(new_X_test, (new_X_test.shape[0], new_X_test.shape[1], 1))\n",
        "\n",
        "pred_price_1 = model_1.predict(new_X_test)\n",
        "pred_price_1 = scaler.inverse_transform(pred_price_1)\n",
        "\n",
        "pred_price_2 = model_2.predict(new_X_test)\n",
        "pred_price_2 = scaler.inverse_transform(pred_price_2)\n",
        "\n",
        "pred_price_3 = model_3.predict(new_X_test)\n",
        "pred_price_3 = scaler.inverse_transform(pred_price_3)\n",
        "\n",
        "pred_price_4 = model_4.predict(new_X_test)\n",
        "pred_price_4 = scaler.inverse_transform(pred_price_4)\n",
        "\n",
        "pred_price_5 = model_5.predict(new_X_test)\n",
        "pred_price_5 = scaler.inverse_transform(pred_price_5)\n",
        "\n",
        "pred_price_6 = model_6.predict(new_X_test)\n",
        "pred_price_6 = scaler.inverse_transform(pred_price_6)\n",
        "\n",
        "pred_price_7 = model_7.predict(new_X_test)\n",
        "pred_price_7 = scaler.inverse_transform(pred_price_7)\n",
        "\n",
        "pred_price_rf = rf_model.predict(new_X_test.reshape(1, sequence_length))\n",
        "pred_price_rf = scaler.inverse_transform(pred_price_rf.reshape(-1, 1))\n",
        "\n",
        "# Reshape last_60_days_scaled to have 60 features\n",
        "last_60_days_scaled_reshape = last_60_days_scaled.reshape(1, -1)\n",
        "\n",
        "pred_price_svm = svm_model.predict(last_60_days_scaled_reshape)\n",
        "pred_price_svm = scaler.inverse_transform(pred_price_svm.reshape(-1, 1))\n",
        "\n",
        "print(\"RNN Model predicted price:\", pred_price_1)\n",
        "print(\"LSTM Model predicted price:\", pred_price_2)\n",
        "print(\"CNN Model predicted price:\", pred_price_3)\n",
        "print(\"CNN-LSTM Model predicted price:\", pred_price_4)\n",
        "print(\"Bi-LSTM Model predicted price:\", pred_price_5)\n",
        "print(\"CNN-BiLSTM Model predicted price:\", pred_price_6)\n",
        "print(\"GRU Model predicted price:\", pred_price_7)\n",
        "print(\"Random Forest Model predicted price:\", pred_price_rf)\n",
        "print(\"SVM Model predicted price:\", pred_price_svm)"
      ]
    },
    {
      "cell_type": "markdown",
      "metadata": {
        "id": "fN-GjOTsURWU"
      },
      "source": [
        "## **Sentiment Analysis**\n",
        "\n",
        "---\n",
        "\n",
        "Web scraping & subjectivity and polarity"
      ]
    },
    {
      "cell_type": "code",
      "execution_count": null,
      "metadata": {
        "id": "cdD6ykSTAkbU"
      },
      "outputs": [],
      "source": [
        "# Importing the essential libraries\n",
        "import requests\n",
        "from bs4 import BeautifulSoup\n",
        "import pandas as pd\n",
        "import nltk\n",
        "import spacy\n",
        "from textblob import TextBlob\n",
        "import seaborn as sns\n",
        "import matplotlib.pyplot as plt\n",
        "\n",
        "nlp = spacy.load('en_core_web_sm')"
      ]
    },
    {
      "cell_type": "code",
      "execution_count": null,
      "metadata": {
        "id": "8_7_cRT5FPPm",
        "colab": {
          "base_uri": "https://localhost:8080/"
        },
        "outputId": "6af80ced-0d8f-46c6-d1ae-57e5654e9e9b"
      },
      "outputs": [
        {
          "output_type": "stream",
          "name": "stdout",
          "text": [
            "Collecting pattern\n",
            "  Downloading Pattern-3.6.0.tar.gz (22.2 MB)\n",
            "\u001b[2K     \u001b[90m━━━━━━━━━━━━━━━━━━━━━━━━━━━━━━━━━━━━━━━━\u001b[0m \u001b[32m22.2/22.2 MB\u001b[0m \u001b[31m42.3 MB/s\u001b[0m eta \u001b[36m0:00:00\u001b[0m\n",
            "\u001b[?25h  Preparing metadata (setup.py) ... \u001b[?25l\u001b[?25hdone\n",
            "Requirement already satisfied: future in /usr/local/lib/python3.10/dist-packages (from pattern) (0.18.3)\n",
            "Collecting backports.csv (from pattern)\n",
            "  Downloading backports.csv-1.0.7-py2.py3-none-any.whl (12 kB)\n",
            "Collecting mysqlclient (from pattern)\n",
            "  Downloading mysqlclient-2.2.4.tar.gz (90 kB)\n",
            "\u001b[2K     \u001b[90m━━━━━━━━━━━━━━━━━━━━━━━━━━━━━━━━━━━━━━━━\u001b[0m \u001b[32m90.4/90.4 kB\u001b[0m \u001b[31m10.4 MB/s\u001b[0m eta \u001b[36m0:00:00\u001b[0m\n",
            "\u001b[?25h  Installing build dependencies ... \u001b[?25l\u001b[?25hdone\n",
            "  Getting requirements to build wheel ... \u001b[?25l\u001b[?25hdone\n",
            "  Installing backend dependencies ... \u001b[?25l\u001b[?25hdone\n",
            "  Preparing metadata (pyproject.toml) ... \u001b[?25l\u001b[?25hdone\n",
            "Requirement already satisfied: beautifulsoup4 in /usr/local/lib/python3.10/dist-packages (from pattern) (4.12.3)\n",
            "Requirement already satisfied: lxml in /usr/local/lib/python3.10/dist-packages (from pattern) (4.9.4)\n",
            "Collecting feedparser (from pattern)\n",
            "  Downloading feedparser-6.0.11-py3-none-any.whl (81 kB)\n",
            "\u001b[2K     \u001b[90m━━━━━━━━━━━━━━━━━━━━━━━━━━━━━━━━━━━━━━━━\u001b[0m \u001b[32m81.3/81.3 kB\u001b[0m \u001b[31m8.3 MB/s\u001b[0m eta \u001b[36m0:00:00\u001b[0m\n",
            "\u001b[?25hCollecting pdfminer.six (from pattern)\n",
            "  Downloading pdfminer.six-20231228-py3-none-any.whl (5.6 MB)\n",
            "\u001b[2K     \u001b[90m━━━━━━━━━━━━━━━━━━━━━━━━━━━━━━━━━━━━━━━━\u001b[0m \u001b[32m5.6/5.6 MB\u001b[0m \u001b[31m65.3 MB/s\u001b[0m eta \u001b[36m0:00:00\u001b[0m\n",
            "\u001b[?25hRequirement already satisfied: numpy in /usr/local/lib/python3.10/dist-packages (from pattern) (1.25.2)\n",
            "Requirement already satisfied: scipy in /usr/local/lib/python3.10/dist-packages (from pattern) (1.11.4)\n",
            "Requirement already satisfied: nltk in /usr/local/lib/python3.10/dist-packages (from pattern) (3.8.1)\n",
            "Collecting python-docx (from pattern)\n",
            "  Downloading python_docx-1.1.2-py3-none-any.whl (244 kB)\n",
            "\u001b[2K     \u001b[90m━━━━━━━━━━━━━━━━━━━━━━━━━━━━━━━━━━━━━━━━\u001b[0m \u001b[32m244.3/244.3 kB\u001b[0m \u001b[31m26.5 MB/s\u001b[0m eta \u001b[36m0:00:00\u001b[0m\n",
            "\u001b[?25hCollecting cherrypy (from pattern)\n",
            "  Downloading CherryPy-18.9.0-py3-none-any.whl (348 kB)\n",
            "\u001b[2K     \u001b[90m━━━━━━━━━━━━━━━━━━━━━━━━━━━━━━━━━━━━━━━━\u001b[0m \u001b[32m348.8/348.8 kB\u001b[0m \u001b[31m48.0 MB/s\u001b[0m eta \u001b[36m0:00:00\u001b[0m\n",
            "\u001b[?25hRequirement already satisfied: requests in /usr/local/lib/python3.10/dist-packages (from pattern) (2.31.0)\n",
            "Requirement already satisfied: soupsieve>1.2 in /usr/local/lib/python3.10/dist-packages (from beautifulsoup4->pattern) (2.5)\n",
            "Collecting cheroot>=8.2.1 (from cherrypy->pattern)\n",
            "  Downloading cheroot-10.0.1-py3-none-any.whl (104 kB)\n",
            "\u001b[2K     \u001b[90m━━━━━━━━━━━━━━━━━━━━━━━━━━━━━━━━━━━━━━━━\u001b[0m \u001b[32m104.8/104.8 kB\u001b[0m \u001b[31m17.4 MB/s\u001b[0m eta \u001b[36m0:00:00\u001b[0m\n",
            "\u001b[?25hCollecting portend>=2.1.1 (from cherrypy->pattern)\n",
            "  Downloading portend-3.2.0-py3-none-any.whl (5.3 kB)\n",
            "Requirement already satisfied: more-itertools in /usr/local/lib/python3.10/dist-packages (from cherrypy->pattern) (10.1.0)\n",
            "Collecting zc.lockfile (from cherrypy->pattern)\n",
            "  Downloading zc.lockfile-3.0.post1-py3-none-any.whl (9.8 kB)\n",
            "Collecting jaraco.collections (from cherrypy->pattern)\n",
            "  Downloading jaraco.collections-5.0.1-py3-none-any.whl (10 kB)\n",
            "Collecting sgmllib3k (from feedparser->pattern)\n",
            "  Downloading sgmllib3k-1.0.0.tar.gz (5.8 kB)\n",
            "  Preparing metadata (setup.py) ... \u001b[?25l\u001b[?25hdone\n",
            "Requirement already satisfied: click in /usr/local/lib/python3.10/dist-packages (from nltk->pattern) (8.1.7)\n",
            "Requirement already satisfied: joblib in /usr/local/lib/python3.10/dist-packages (from nltk->pattern) (1.4.2)\n",
            "Requirement already satisfied: regex>=2021.8.3 in /usr/local/lib/python3.10/dist-packages (from nltk->pattern) (2023.12.25)\n",
            "Requirement already satisfied: tqdm in /usr/local/lib/python3.10/dist-packages (from nltk->pattern) (4.66.4)\n",
            "Requirement already satisfied: charset-normalizer>=2.0.0 in /usr/local/lib/python3.10/dist-packages (from pdfminer.six->pattern) (3.3.2)\n",
            "Requirement already satisfied: cryptography>=36.0.0 in /usr/local/lib/python3.10/dist-packages (from pdfminer.six->pattern) (42.0.7)\n",
            "Requirement already satisfied: typing-extensions>=4.9.0 in /usr/local/lib/python3.10/dist-packages (from python-docx->pattern) (4.11.0)\n",
            "Requirement already satisfied: idna<4,>=2.5 in /usr/local/lib/python3.10/dist-packages (from requests->pattern) (3.7)\n",
            "Requirement already satisfied: urllib3<3,>=1.21.1 in /usr/local/lib/python3.10/dist-packages (from requests->pattern) (2.0.7)\n",
            "Requirement already satisfied: certifi>=2017.4.17 in /usr/local/lib/python3.10/dist-packages (from requests->pattern) (2024.2.2)\n",
            "Collecting jaraco.functools (from cheroot>=8.2.1->cherrypy->pattern)\n",
            "  Downloading jaraco.functools-4.0.1-py3-none-any.whl (9.8 kB)\n",
            "Requirement already satisfied: cffi>=1.12 in /usr/local/lib/python3.10/dist-packages (from cryptography>=36.0.0->pdfminer.six->pattern) (1.16.0)\n",
            "Collecting tempora>=1.8 (from portend>=2.1.1->cherrypy->pattern)\n",
            "  Downloading tempora-5.5.1-py3-none-any.whl (13 kB)\n",
            "Collecting jaraco.text (from jaraco.collections->cherrypy->pattern)\n",
            "  Downloading jaraco.text-3.12.0-py3-none-any.whl (11 kB)\n",
            "Requirement already satisfied: setuptools in /usr/local/lib/python3.10/dist-packages (from zc.lockfile->cherrypy->pattern) (67.7.2)\n",
            "Requirement already satisfied: pycparser in /usr/local/lib/python3.10/dist-packages (from cffi>=1.12->cryptography>=36.0.0->pdfminer.six->pattern) (2.22)\n",
            "Requirement already satisfied: pytz in /usr/local/lib/python3.10/dist-packages (from tempora>=1.8->portend>=2.1.1->cherrypy->pattern) (2023.4)\n",
            "Collecting jaraco.context>=4.1 (from jaraco.text->jaraco.collections->cherrypy->pattern)\n",
            "  Downloading jaraco.context-5.3.0-py3-none-any.whl (6.5 kB)\n",
            "Collecting autocommand (from jaraco.text->jaraco.collections->cherrypy->pattern)\n",
            "  Downloading autocommand-2.2.2-py3-none-any.whl (19 kB)\n",
            "Requirement already satisfied: inflect in /usr/local/lib/python3.10/dist-packages (from jaraco.text->jaraco.collections->cherrypy->pattern) (7.0.0)\n",
            "Collecting backports.tarfile (from jaraco.context>=4.1->jaraco.text->jaraco.collections->cherrypy->pattern)\n",
            "  Downloading backports.tarfile-1.1.1-py3-none-any.whl (29 kB)\n",
            "Requirement already satisfied: pydantic>=1.9.1 in /usr/local/lib/python3.10/dist-packages (from inflect->jaraco.text->jaraco.collections->cherrypy->pattern) (2.7.1)\n",
            "Requirement already satisfied: annotated-types>=0.4.0 in /usr/local/lib/python3.10/dist-packages (from pydantic>=1.9.1->inflect->jaraco.text->jaraco.collections->cherrypy->pattern) (0.6.0)\n",
            "Requirement already satisfied: pydantic-core==2.18.2 in /usr/local/lib/python3.10/dist-packages (from pydantic>=1.9.1->inflect->jaraco.text->jaraco.collections->cherrypy->pattern) (2.18.2)\n",
            "Building wheels for collected packages: pattern, mysqlclient, sgmllib3k\n",
            "  Building wheel for pattern (setup.py) ... \u001b[?25l\u001b[?25hdone\n",
            "  Created wheel for pattern: filename=Pattern-3.6-py3-none-any.whl size=22332702 sha256=80bcc194038318ef593b9a011921bca5f96d79332d6ccb54f1c3aafec0bb62e2\n",
            "  Stored in directory: /root/.cache/pip/wheels/d1/8f/40/fe23abd593ef60be5bfaf3e02154d3484df42aa947bbf4d499\n",
            "  Building wheel for mysqlclient (pyproject.toml) ... \u001b[?25l\u001b[?25hdone\n",
            "  Created wheel for mysqlclient: filename=mysqlclient-2.2.4-cp310-cp310-linux_x86_64.whl size=124733 sha256=1708a5923b7d86d531b35169584d935b4fedd38c2b6127d30ecf880ce27642aa\n",
            "  Stored in directory: /root/.cache/pip/wheels/ac/96/ac/2a4d8cb58a4d95de1dffc3f8b0ea42e0e5b63ab97640edbda3\n",
            "  Building wheel for sgmllib3k (setup.py) ... \u001b[?25l\u001b[?25hdone\n",
            "  Created wheel for sgmllib3k: filename=sgmllib3k-1.0.0-py3-none-any.whl size=6049 sha256=821274c28607733f7ee2d8789928909f7b12070fa4716808f29602161935fb9c\n",
            "  Stored in directory: /root/.cache/pip/wheels/f0/69/93/a47e9d621be168e9e33c7ce60524393c0b92ae83cf6c6e89c5\n",
            "Successfully built pattern mysqlclient sgmllib3k\n",
            "Installing collected packages: sgmllib3k, backports.csv, zc.lockfile, python-docx, mysqlclient, jaraco.functools, feedparser, backports.tarfile, autocommand, tempora, jaraco.context, cheroot, portend, pdfminer.six, jaraco.text, jaraco.collections, cherrypy, pattern\n",
            "Successfully installed autocommand-2.2.2 backports.csv-1.0.7 backports.tarfile-1.1.1 cheroot-10.0.1 cherrypy-18.9.0 feedparser-6.0.11 jaraco.collections-5.0.1 jaraco.context-5.3.0 jaraco.functools-4.0.1 jaraco.text-3.12.0 mysqlclient-2.2.4 pattern-3.6 pdfminer.six-20231228 portend-3.2.0 python-docx-1.1.2 sgmllib3k-1.0.0 tempora-5.5.1 zc.lockfile-3.0.post1\n"
          ]
        }
      ],
      "source": [
        "!pip install pattern\n",
        "from pattern.en import sentiment"
      ]
    },
    {
      "cell_type": "code",
      "execution_count": null,
      "metadata": {
        "id": "HRWSOSTLAra9"
      },
      "outputs": [],
      "source": [
        "# List of Bitcoin news URLs\n",
        "urls = [\n",
        "    \"https://www.coindesk.com/\",\n",
        "    \"https://cointelegraph.com/\",\n",
        "    \"https://news.bitcoin.com/\",\n",
        "    \"https://www.coindesk.com/\",\n",
        "    \"https://bitcoinmagazine.com/\",\n",
        "    \"https://www.cnbc.com/bitcoin/\"\n",
        "]"
      ]
    },
    {
      "cell_type": "code",
      "execution_count": null,
      "metadata": {
        "id": "FifyoYkGBuy3"
      },
      "outputs": [],
      "source": [
        "# Brand or keyword\n",
        "brand = \"Bitcoin\"\n",
        "\n",
        "# Empty list to hold the text from each URL\n",
        "text_list = []\n",
        "\n",
        "for url in urls:\n",
        "    r = requests.get(url)  # Make a GET request to the URL\n",
        "    r.encoding = 'utf-8'   # Set the correct text encoding of the HTML page\n",
        "    html = r.text          # Extract the HTML from the request object\n",
        "    soup = BeautifulSoup(html, 'html.parser')  # Create a BeautifulSoup object from the HTML\n",
        "    text = soup.get_text()  # Get the text out of the soup\n",
        "    text_list.append(text)  # Add the text to the list"
      ]
    },
    {
      "cell_type": "code",
      "execution_count": null,
      "metadata": {
        "id": "HowkqHtEBxa3"
      },
      "outputs": [],
      "source": [
        "clean_text = ' '.join(text_list)  # Combine the text from all URLs into a single string\n",
        "clean_text = clean_text.replace(\"\\n\", \" \")\n",
        "clean_text = clean_text.replace(\"/\", \" \")\n",
        "clean_text = ''.join([c for c in clean_text if c != \"\\'\"])"
      ]
    },
    {
      "cell_type": "code",
      "execution_count": null,
      "metadata": {
        "id": "u98ehFnNEKJs"
      },
      "outputs": [],
      "source": [
        "# Split the text into sentences\n",
        "sentence = []\n",
        "tokens = nlp(clean_text)\n",
        "for sent in tokens.sents:\n",
        "    sentence.append((sent.text.strip()))"
      ]
    },
    {
      "cell_type": "code",
      "execution_count": null,
      "metadata": {
        "id": "VWanq5DKEMPV"
      },
      "outputs": [],
      "source": [
        "# Calculate sentiment polarity and subjectivity of the sentences using TextBlob and Pattern libraries\n",
        "textblob_sentiment = []\n",
        "pattern_sentiment = []\n",
        "\n",
        "for s in sentence:\n",
        "    # TextBlob\n",
        "    txt = TextBlob(s)\n",
        "    p_tb = txt.sentiment.polarity\n",
        "    sub_tb = txt.sentiment.subjectivity\n",
        "    textblob_sentiment.append([s, p_tb, sub_tb])\n",
        "\n",
        "    # Pattern\n",
        "    res = sentiment(s)\n",
        "    p_pt = res[0]\n",
        "    sub_pt = res[1]\n",
        "    pattern_sentiment.append([s, p_pt, sub_pt])"
      ]
    },
    {
      "cell_type": "code",
      "execution_count": null,
      "metadata": {
        "id": "3HMAfJvXEOyj"
      },
      "outputs": [],
      "source": [
        "# Store sentiment scores in DataFrames\n",
        "df_textblob = pd.DataFrame(textblob_sentiment, columns=['Sentence', 'Polarity_TB', 'Subjectivity_TB'])\n",
        "df_pattern = pd.DataFrame(pattern_sentiment, columns=['Sentence', 'Polarity_PT', 'Subjectivity_PT'])\n"
      ]
    },
    {
      "cell_type": "code",
      "execution_count": null,
      "metadata": {
        "id": "0L-dqg2Sd-N8",
        "colab": {
          "base_uri": "https://localhost:8080/",
          "height": 206
        },
        "outputId": "845eacfc-34db-48de-8588-0b404c052cbe"
      },
      "outputs": [
        {
          "output_type": "execute_result",
          "data": {
            "text/plain": [
              "                                            Sentence  Polarity_TB  \\\n",
              "0  CoinDesk: Bitcoin, Ethereum, Crypto News and P...     0.028788   \n",
              "1  Crypto Industry Rallies Behind House Bill as I...    -0.100000   \n",
              "2  By Jesse HamiltonMay 17, 2024 at 2:44 p.m. UTC...     0.250000   \n",
              "3                                     Learn moreJoin     0.000000   \n",
              "4  WaitlistBy signing up, you will receive emails...     0.000000   \n",
              "\n",
              "   Subjectivity_TB  \n",
              "0         0.300000  \n",
              "1         0.425000  \n",
              "2         0.411111  \n",
              "3         0.000000  \n",
              "4         0.000000  "
            ],
            "text/html": [
              "\n",
              "  <div id=\"df-4d4b6193-9035-441f-bb4f-5e86657e68a8\" class=\"colab-df-container\">\n",
              "    <div>\n",
              "<style scoped>\n",
              "    .dataframe tbody tr th:only-of-type {\n",
              "        vertical-align: middle;\n",
              "    }\n",
              "\n",
              "    .dataframe tbody tr th {\n",
              "        vertical-align: top;\n",
              "    }\n",
              "\n",
              "    .dataframe thead th {\n",
              "        text-align: right;\n",
              "    }\n",
              "</style>\n",
              "<table border=\"1\" class=\"dataframe\">\n",
              "  <thead>\n",
              "    <tr style=\"text-align: right;\">\n",
              "      <th></th>\n",
              "      <th>Sentence</th>\n",
              "      <th>Polarity_TB</th>\n",
              "      <th>Subjectivity_TB</th>\n",
              "    </tr>\n",
              "  </thead>\n",
              "  <tbody>\n",
              "    <tr>\n",
              "      <th>0</th>\n",
              "      <td>CoinDesk: Bitcoin, Ethereum, Crypto News and P...</td>\n",
              "      <td>0.028788</td>\n",
              "      <td>0.300000</td>\n",
              "    </tr>\n",
              "    <tr>\n",
              "      <th>1</th>\n",
              "      <td>Crypto Industry Rallies Behind House Bill as I...</td>\n",
              "      <td>-0.100000</td>\n",
              "      <td>0.425000</td>\n",
              "    </tr>\n",
              "    <tr>\n",
              "      <th>2</th>\n",
              "      <td>By Jesse HamiltonMay 17, 2024 at 2:44 p.m. UTC...</td>\n",
              "      <td>0.250000</td>\n",
              "      <td>0.411111</td>\n",
              "    </tr>\n",
              "    <tr>\n",
              "      <th>3</th>\n",
              "      <td>Learn moreJoin</td>\n",
              "      <td>0.000000</td>\n",
              "      <td>0.000000</td>\n",
              "    </tr>\n",
              "    <tr>\n",
              "      <th>4</th>\n",
              "      <td>WaitlistBy signing up, you will receive emails...</td>\n",
              "      <td>0.000000</td>\n",
              "      <td>0.000000</td>\n",
              "    </tr>\n",
              "  </tbody>\n",
              "</table>\n",
              "</div>\n",
              "    <div class=\"colab-df-buttons\">\n",
              "\n",
              "  <div class=\"colab-df-container\">\n",
              "    <button class=\"colab-df-convert\" onclick=\"convertToInteractive('df-4d4b6193-9035-441f-bb4f-5e86657e68a8')\"\n",
              "            title=\"Convert this dataframe to an interactive table.\"\n",
              "            style=\"display:none;\">\n",
              "\n",
              "  <svg xmlns=\"http://www.w3.org/2000/svg\" height=\"24px\" viewBox=\"0 -960 960 960\">\n",
              "    <path d=\"M120-120v-720h720v720H120Zm60-500h600v-160H180v160Zm220 220h160v-160H400v160Zm0 220h160v-160H400v160ZM180-400h160v-160H180v160Zm440 0h160v-160H620v160ZM180-180h160v-160H180v160Zm440 0h160v-160H620v160Z\"/>\n",
              "  </svg>\n",
              "    </button>\n",
              "\n",
              "  <style>\n",
              "    .colab-df-container {\n",
              "      display:flex;\n",
              "      gap: 12px;\n",
              "    }\n",
              "\n",
              "    .colab-df-convert {\n",
              "      background-color: #E8F0FE;\n",
              "      border: none;\n",
              "      border-radius: 50%;\n",
              "      cursor: pointer;\n",
              "      display: none;\n",
              "      fill: #1967D2;\n",
              "      height: 32px;\n",
              "      padding: 0 0 0 0;\n",
              "      width: 32px;\n",
              "    }\n",
              "\n",
              "    .colab-df-convert:hover {\n",
              "      background-color: #E2EBFA;\n",
              "      box-shadow: 0px 1px 2px rgba(60, 64, 67, 0.3), 0px 1px 3px 1px rgba(60, 64, 67, 0.15);\n",
              "      fill: #174EA6;\n",
              "    }\n",
              "\n",
              "    .colab-df-buttons div {\n",
              "      margin-bottom: 4px;\n",
              "    }\n",
              "\n",
              "    [theme=dark] .colab-df-convert {\n",
              "      background-color: #3B4455;\n",
              "      fill: #D2E3FC;\n",
              "    }\n",
              "\n",
              "    [theme=dark] .colab-df-convert:hover {\n",
              "      background-color: #434B5C;\n",
              "      box-shadow: 0px 1px 3px 1px rgba(0, 0, 0, 0.15);\n",
              "      filter: drop-shadow(0px 1px 2px rgba(0, 0, 0, 0.3));\n",
              "      fill: #FFFFFF;\n",
              "    }\n",
              "  </style>\n",
              "\n",
              "    <script>\n",
              "      const buttonEl =\n",
              "        document.querySelector('#df-4d4b6193-9035-441f-bb4f-5e86657e68a8 button.colab-df-convert');\n",
              "      buttonEl.style.display =\n",
              "        google.colab.kernel.accessAllowed ? 'block' : 'none';\n",
              "\n",
              "      async function convertToInteractive(key) {\n",
              "        const element = document.querySelector('#df-4d4b6193-9035-441f-bb4f-5e86657e68a8');\n",
              "        const dataTable =\n",
              "          await google.colab.kernel.invokeFunction('convertToInteractive',\n",
              "                                                    [key], {});\n",
              "        if (!dataTable) return;\n",
              "\n",
              "        const docLinkHtml = 'Like what you see? Visit the ' +\n",
              "          '<a target=\"_blank\" href=https://colab.research.google.com/notebooks/data_table.ipynb>data table notebook</a>'\n",
              "          + ' to learn more about interactive tables.';\n",
              "        element.innerHTML = '';\n",
              "        dataTable['output_type'] = 'display_data';\n",
              "        await google.colab.output.renderOutput(dataTable, element);\n",
              "        const docLink = document.createElement('div');\n",
              "        docLink.innerHTML = docLinkHtml;\n",
              "        element.appendChild(docLink);\n",
              "      }\n",
              "    </script>\n",
              "  </div>\n",
              "\n",
              "\n",
              "<div id=\"df-a6369c1f-3e0f-4957-b238-c563d81ff026\">\n",
              "  <button class=\"colab-df-quickchart\" onclick=\"quickchart('df-a6369c1f-3e0f-4957-b238-c563d81ff026')\"\n",
              "            title=\"Suggest charts\"\n",
              "            style=\"display:none;\">\n",
              "\n",
              "<svg xmlns=\"http://www.w3.org/2000/svg\" height=\"24px\"viewBox=\"0 0 24 24\"\n",
              "     width=\"24px\">\n",
              "    <g>\n",
              "        <path d=\"M19 3H5c-1.1 0-2 .9-2 2v14c0 1.1.9 2 2 2h14c1.1 0 2-.9 2-2V5c0-1.1-.9-2-2-2zM9 17H7v-7h2v7zm4 0h-2V7h2v10zm4 0h-2v-4h2v4z\"/>\n",
              "    </g>\n",
              "</svg>\n",
              "  </button>\n",
              "\n",
              "<style>\n",
              "  .colab-df-quickchart {\n",
              "      --bg-color: #E8F0FE;\n",
              "      --fill-color: #1967D2;\n",
              "      --hover-bg-color: #E2EBFA;\n",
              "      --hover-fill-color: #174EA6;\n",
              "      --disabled-fill-color: #AAA;\n",
              "      --disabled-bg-color: #DDD;\n",
              "  }\n",
              "\n",
              "  [theme=dark] .colab-df-quickchart {\n",
              "      --bg-color: #3B4455;\n",
              "      --fill-color: #D2E3FC;\n",
              "      --hover-bg-color: #434B5C;\n",
              "      --hover-fill-color: #FFFFFF;\n",
              "      --disabled-bg-color: #3B4455;\n",
              "      --disabled-fill-color: #666;\n",
              "  }\n",
              "\n",
              "  .colab-df-quickchart {\n",
              "    background-color: var(--bg-color);\n",
              "    border: none;\n",
              "    border-radius: 50%;\n",
              "    cursor: pointer;\n",
              "    display: none;\n",
              "    fill: var(--fill-color);\n",
              "    height: 32px;\n",
              "    padding: 0;\n",
              "    width: 32px;\n",
              "  }\n",
              "\n",
              "  .colab-df-quickchart:hover {\n",
              "    background-color: var(--hover-bg-color);\n",
              "    box-shadow: 0 1px 2px rgba(60, 64, 67, 0.3), 0 1px 3px 1px rgba(60, 64, 67, 0.15);\n",
              "    fill: var(--button-hover-fill-color);\n",
              "  }\n",
              "\n",
              "  .colab-df-quickchart-complete:disabled,\n",
              "  .colab-df-quickchart-complete:disabled:hover {\n",
              "    background-color: var(--disabled-bg-color);\n",
              "    fill: var(--disabled-fill-color);\n",
              "    box-shadow: none;\n",
              "  }\n",
              "\n",
              "  .colab-df-spinner {\n",
              "    border: 2px solid var(--fill-color);\n",
              "    border-color: transparent;\n",
              "    border-bottom-color: var(--fill-color);\n",
              "    animation:\n",
              "      spin 1s steps(1) infinite;\n",
              "  }\n",
              "\n",
              "  @keyframes spin {\n",
              "    0% {\n",
              "      border-color: transparent;\n",
              "      border-bottom-color: var(--fill-color);\n",
              "      border-left-color: var(--fill-color);\n",
              "    }\n",
              "    20% {\n",
              "      border-color: transparent;\n",
              "      border-left-color: var(--fill-color);\n",
              "      border-top-color: var(--fill-color);\n",
              "    }\n",
              "    30% {\n",
              "      border-color: transparent;\n",
              "      border-left-color: var(--fill-color);\n",
              "      border-top-color: var(--fill-color);\n",
              "      border-right-color: var(--fill-color);\n",
              "    }\n",
              "    40% {\n",
              "      border-color: transparent;\n",
              "      border-right-color: var(--fill-color);\n",
              "      border-top-color: var(--fill-color);\n",
              "    }\n",
              "    60% {\n",
              "      border-color: transparent;\n",
              "      border-right-color: var(--fill-color);\n",
              "    }\n",
              "    80% {\n",
              "      border-color: transparent;\n",
              "      border-right-color: var(--fill-color);\n",
              "      border-bottom-color: var(--fill-color);\n",
              "    }\n",
              "    90% {\n",
              "      border-color: transparent;\n",
              "      border-bottom-color: var(--fill-color);\n",
              "    }\n",
              "  }\n",
              "</style>\n",
              "\n",
              "  <script>\n",
              "    async function quickchart(key) {\n",
              "      const quickchartButtonEl =\n",
              "        document.querySelector('#' + key + ' button');\n",
              "      quickchartButtonEl.disabled = true;  // To prevent multiple clicks.\n",
              "      quickchartButtonEl.classList.add('colab-df-spinner');\n",
              "      try {\n",
              "        const charts = await google.colab.kernel.invokeFunction(\n",
              "            'suggestCharts', [key], {});\n",
              "      } catch (error) {\n",
              "        console.error('Error during call to suggestCharts:', error);\n",
              "      }\n",
              "      quickchartButtonEl.classList.remove('colab-df-spinner');\n",
              "      quickchartButtonEl.classList.add('colab-df-quickchart-complete');\n",
              "    }\n",
              "    (() => {\n",
              "      let quickchartButtonEl =\n",
              "        document.querySelector('#df-a6369c1f-3e0f-4957-b238-c563d81ff026 button');\n",
              "      quickchartButtonEl.style.display =\n",
              "        google.colab.kernel.accessAllowed ? 'block' : 'none';\n",
              "    })();\n",
              "  </script>\n",
              "</div>\n",
              "    </div>\n",
              "  </div>\n"
            ],
            "application/vnd.google.colaboratory.intrinsic+json": {
              "type": "dataframe",
              "variable_name": "df_textblob",
              "summary": "{\n  \"name\": \"df_textblob\",\n  \"rows\": 187,\n  \"fields\": [\n    {\n      \"column\": \"Sentence\",\n      \"properties\": {\n        \"dtype\": \"string\",\n        \"num_unique_values\": 115,\n        \"samples\": [\n          \"ArchiveEarningsTrader TalkTechCybersecurityEnterpriseInternetMediaMobileSocial MediaCNBC Disruptor 50Tech GuidePoliticsWhite HousePolicyDefenseCongressEquity and OpportunityCNBC\",\n          \"WaitlistBy signing up, you will receive emails about CoinDesk products and you agree to our terms & conditions and privacy policy.\",\n          \"Right IconProtocol Village: Oobit Collaboration With TON Lets Users Spend Tether Sent Over Telegram May 17, 2024Bitcoin Rises Above $67K, but Lags Broader Crypto Market as ETH, SOL, LINK Post Big GainsMay 17, 2024National Security Threat?\"\n        ],\n        \"semantic_type\": \"\",\n        \"description\": \"\"\n      }\n    },\n    {\n      \"column\": \"Polarity_TB\",\n      \"properties\": {\n        \"dtype\": \"number\",\n        \"std\": 0.15361572190001893,\n        \"min\": -0.5,\n        \"max\": 0.5,\n        \"num_unique_values\": 39,\n        \"samples\": [\n          -0.02585227272727269,\n          -0.015000000000000003,\n          0.13636363636363635\n        ],\n        \"semantic_type\": \"\",\n        \"description\": \"\"\n      }\n    },\n    {\n      \"column\": \"Subjectivity_TB\",\n      \"properties\": {\n        \"dtype\": \"number\",\n        \"std\": 0.2560383977888148,\n        \"min\": 0.0,\n        \"max\": 0.9,\n        \"num_unique_values\": 46,\n        \"samples\": [\n          0.15,\n          0.1,\n          0.4\n        ],\n        \"semantic_type\": \"\",\n        \"description\": \"\"\n      }\n    }\n  ]\n}"
            }
          },
          "metadata": {},
          "execution_count": 61
        }
      ],
      "source": [
        "df_textblob.head()"
      ]
    },
    {
      "cell_type": "code",
      "execution_count": null,
      "metadata": {
        "id": "-tqHGWsqa5GN",
        "colab": {
          "base_uri": "https://localhost:8080/",
          "height": 523
        },
        "outputId": "bf1dbb32-b5ba-4505-c158-d64fe62200f9"
      },
      "outputs": [
        {
          "output_type": "execute_result",
          "data": {
            "text/plain": [
              "Text(0.5, 9.444444444444438, 'Sentence Polarity (Textblob)')"
            ]
          },
          "metadata": {},
          "execution_count": 62
        },
        {
          "output_type": "display_data",
          "data": {
            "text/plain": [
              "<Figure size 900x500 with 1 Axes>"
            ],
            "image/png": "[encoded data removed]"
          },
          "metadata": {}
        }
      ],
      "source": [
        "sns.displot(df_textblob[\"Polarity_TB\"], height= 5, aspect=1.8)\n",
        "plt.xlabel(\"Sentence Polarity (Textblob)\")"
      ]
    },
    {
      "cell_type": "code",
      "execution_count": null,
      "metadata": {
        "id": "6FAyRYNHa7J1",
        "colab": {
          "base_uri": "https://localhost:8080/",
          "height": 523
        },
        "outputId": "36ba351e-4f5b-478c-ed28-6b645bfd41fe"
      },
      "outputs": [
        {
          "output_type": "execute_result",
          "data": {
            "text/plain": [
              "Text(0.5, 9.444444444444438, 'Sentence Subjectivity (Textblob)')"
            ]
          },
          "metadata": {},
          "execution_count": 63
        },
        {
          "output_type": "display_data",
          "data": {
            "text/plain": [
              "<Figure size 900x500 with 1 Axes>"
            ],
            "image/png": "[encoded data removed]"
          },
          "metadata": {}
        }
      ],
      "source": [
        "sns.displot(df_textblob[\"Subjectivity_TB\"], height= 5, aspect=1.8)\n",
        "plt.xlabel(\"Sentence Subjectivity (Textblob)\")"
      ]
    },
    {
      "cell_type": "code",
      "execution_count": null,
      "metadata": {
        "id": "4pGh3GetYEZ1",
        "colab": {
          "base_uri": "https://localhost:8080/",
          "height": 206
        },
        "outputId": "1cb344a1-8587-48ed-f8b7-07a246b57aa5"
      },
      "outputs": [
        {
          "output_type": "execute_result",
          "data": {
            "text/plain": [
              "                                            Sentence  Polarity_PT  \\\n",
              "0  CoinDesk: Bitcoin, Ethereum, Crypto News and P...     0.028788   \n",
              "1  Crypto Industry Rallies Behind House Bill as I...    -0.100000   \n",
              "2  By Jesse HamiltonMay 17, 2024 at 2:44 p.m. UTC...     0.250000   \n",
              "3                                     Learn moreJoin     0.000000   \n",
              "4  WaitlistBy signing up, you will receive emails...     0.000000   \n",
              "\n",
              "   Subjectivity_PT  \n",
              "0         0.300000  \n",
              "1         0.425000  \n",
              "2         0.411111  \n",
              "3         0.000000  \n",
              "4         0.000000  "
            ],
            "text/html": [
              "\n",
              "  <div id=\"df-3d87504c-bc6e-449a-99c0-a9921a492c40\" class=\"colab-df-container\">\n",
              "    <div>\n",
              "<style scoped>\n",
              "    .dataframe tbody tr th:only-of-type {\n",
              "        vertical-align: middle;\n",
              "    }\n",
              "\n",
              "    .dataframe tbody tr th {\n",
              "        vertical-align: top;\n",
              "    }\n",
              "\n",
              "    .dataframe thead th {\n",
              "        text-align: right;\n",
              "    }\n",
              "</style>\n",
              "<table border=\"1\" class=\"dataframe\">\n",
              "  <thead>\n",
              "    <tr style=\"text-align: right;\">\n",
              "      <th></th>\n",
              "      <th>Sentence</th>\n",
              "      <th>Polarity_PT</th>\n",
              "      <th>Subjectivity_PT</th>\n",
              "    </tr>\n",
              "  </thead>\n",
              "  <tbody>\n",
              "    <tr>\n",
              "      <th>0</th>\n",
              "      <td>CoinDesk: Bitcoin, Ethereum, Crypto News and P...</td>\n",
              "      <td>0.028788</td>\n",
              "      <td>0.300000</td>\n",
              "    </tr>\n",
              "    <tr>\n",
              "      <th>1</th>\n",
              "      <td>Crypto Industry Rallies Behind House Bill as I...</td>\n",
              "      <td>-0.100000</td>\n",
              "      <td>0.425000</td>\n",
              "    </tr>\n",
              "    <tr>\n",
              "      <th>2</th>\n",
              "      <td>By Jesse HamiltonMay 17, 2024 at 2:44 p.m. UTC...</td>\n",
              "      <td>0.250000</td>\n",
              "      <td>0.411111</td>\n",
              "    </tr>\n",
              "    <tr>\n",
              "      <th>3</th>\n",
              "      <td>Learn moreJoin</td>\n",
              "      <td>0.000000</td>\n",
              "      <td>0.000000</td>\n",
              "    </tr>\n",
              "    <tr>\n",
              "      <th>4</th>\n",
              "      <td>WaitlistBy signing up, you will receive emails...</td>\n",
              "      <td>0.000000</td>\n",
              "      <td>0.000000</td>\n",
              "    </tr>\n",
              "  </tbody>\n",
              "</table>\n",
              "</div>\n",
              "    <div class=\"colab-df-buttons\">\n",
              "\n",
              "  <div class=\"colab-df-container\">\n",
              "    <button class=\"colab-df-convert\" onclick=\"convertToInteractive('df-3d87504c-bc6e-449a-99c0-a9921a492c40')\"\n",
              "            title=\"Convert this dataframe to an interactive table.\"\n",
              "            style=\"display:none;\">\n",
              "\n",
              "  <svg xmlns=\"http://www.w3.org/2000/svg\" height=\"24px\" viewBox=\"0 -960 960 960\">\n",
              "    <path d=\"M120-120v-720h720v720H120Zm60-500h600v-160H180v160Zm220 220h160v-160H400v160Zm0 220h160v-160H400v160ZM180-400h160v-160H180v160Zm440 0h160v-160H620v160ZM180-180h160v-160H180v160Zm440 0h160v-160H620v160Z\"/>\n",
              "  </svg>\n",
              "    </button>\n",
              "\n",
              "  <style>\n",
              "    .colab-df-container {\n",
              "      display:flex;\n",
              "      gap: 12px;\n",
              "    }\n",
              "\n",
              "    .colab-df-convert {\n",
              "      background-color: #E8F0FE;\n",
              "      border: none;\n",
              "      border-radius: 50%;\n",
              "      cursor: pointer;\n",
              "      display: none;\n",
              "      fill: #1967D2;\n",
              "      height: 32px;\n",
              "      padding: 0 0 0 0;\n",
              "      width: 32px;\n",
              "    }\n",
              "\n",
              "    .colab-df-convert:hover {\n",
              "      background-color: #E2EBFA;\n",
              "      box-shadow: 0px 1px 2px rgba(60, 64, 67, 0.3), 0px 1px 3px 1px rgba(60, 64, 67, 0.15);\n",
              "      fill: #174EA6;\n",
              "    }\n",
              "\n",
              "    .colab-df-buttons div {\n",
              "      margin-bottom: 4px;\n",
              "    }\n",
              "\n",
              "    [theme=dark] .colab-df-convert {\n",
              "      background-color: #3B4455;\n",
              "      fill: #D2E3FC;\n",
              "    }\n",
              "\n",
              "    [theme=dark] .colab-df-convert:hover {\n",
              "      background-color: #434B5C;\n",
              "      box-shadow: 0px 1px 3px 1px rgba(0, 0, 0, 0.15);\n",
              "      filter: drop-shadow(0px 1px 2px rgba(0, 0, 0, 0.3));\n",
              "      fill: #FFFFFF;\n",
              "    }\n",
              "  </style>\n",
              "\n",
              "    <script>\n",
              "      const buttonEl =\n",
              "        document.querySelector('#df-3d87504c-bc6e-449a-99c0-a9921a492c40 button.colab-df-convert');\n",
              "      buttonEl.style.display =\n",
              "        google.colab.kernel.accessAllowed ? 'block' : 'none';\n",
              "\n",
              "      async function convertToInteractive(key) {\n",
              "        const element = document.querySelector('#df-3d87504c-bc6e-449a-99c0-a9921a492c40');\n",
              "        const dataTable =\n",
              "          await google.colab.kernel.invokeFunction('convertToInteractive',\n",
              "                                                    [key], {});\n",
              "        if (!dataTable) return;\n",
              "\n",
              "        const docLinkHtml = 'Like what you see? Visit the ' +\n",
              "          '<a target=\"_blank\" href=https://colab.research.google.com/notebooks/data_table.ipynb>data table notebook</a>'\n",
              "          + ' to learn more about interactive tables.';\n",
              "        element.innerHTML = '';\n",
              "        dataTable['output_type'] = 'display_data';\n",
              "        await google.colab.output.renderOutput(dataTable, element);\n",
              "        const docLink = document.createElement('div');\n",
              "        docLink.innerHTML = docLinkHtml;\n",
              "        element.appendChild(docLink);\n",
              "      }\n",
              "    </script>\n",
              "  </div>\n",
              "\n",
              "\n",
              "<div id=\"df-56c40cac-ac94-481e-ab27-7e07e055d9e7\">\n",
              "  <button class=\"colab-df-quickchart\" onclick=\"quickchart('df-56c40cac-ac94-481e-ab27-7e07e055d9e7')\"\n",
              "            title=\"Suggest charts\"\n",
              "            style=\"display:none;\">\n",
              "\n",
              "<svg xmlns=\"http://www.w3.org/2000/svg\" height=\"24px\"viewBox=\"0 0 24 24\"\n",
              "     width=\"24px\">\n",
              "    <g>\n",
              "        <path d=\"M19 3H5c-1.1 0-2 .9-2 2v14c0 1.1.9 2 2 2h14c1.1 0 2-.9 2-2V5c0-1.1-.9-2-2-2zM9 17H7v-7h2v7zm4 0h-2V7h2v10zm4 0h-2v-4h2v4z\"/>\n",
              "    </g>\n",
              "</svg>\n",
              "  </button>\n",
              "\n",
              "<style>\n",
              "  .colab-df-quickchart {\n",
              "      --bg-color: #E8F0FE;\n",
              "      --fill-color: #1967D2;\n",
              "      --hover-bg-color: #E2EBFA;\n",
              "      --hover-fill-color: #174EA6;\n",
              "      --disabled-fill-color: #AAA;\n",
              "      --disabled-bg-color: #DDD;\n",
              "  }\n",
              "\n",
              "  [theme=dark] .colab-df-quickchart {\n",
              "      --bg-color: #3B4455;\n",
              "      --fill-color: #D2E3FC;\n",
              "      --hover-bg-color: #434B5C;\n",
              "      --hover-fill-color: #FFFFFF;\n",
              "      --disabled-bg-color: #3B4455;\n",
              "      --disabled-fill-color: #666;\n",
              "  }\n",
              "\n",
              "  .colab-df-quickchart {\n",
              "    background-color: var(--bg-color);\n",
              "    border: none;\n",
              "    border-radius: 50%;\n",
              "    cursor: pointer;\n",
              "    display: none;\n",
              "    fill: var(--fill-color);\n",
              "    height: 32px;\n",
              "    padding: 0;\n",
              "    width: 32px;\n",
              "  }\n",
              "\n",
              "  .colab-df-quickchart:hover {\n",
              "    background-color: var(--hover-bg-color);\n",
              "    box-shadow: 0 1px 2px rgba(60, 64, 67, 0.3), 0 1px 3px 1px rgba(60, 64, 67, 0.15);\n",
              "    fill: var(--button-hover-fill-color);\n",
              "  }\n",
              "\n",
              "  .colab-df-quickchart-complete:disabled,\n",
              "  .colab-df-quickchart-complete:disabled:hover {\n",
              "    background-color: var(--disabled-bg-color);\n",
              "    fill: var(--disabled-fill-color);\n",
              "    box-shadow: none;\n",
              "  }\n",
              "\n",
              "  .colab-df-spinner {\n",
              "    border: 2px solid var(--fill-color);\n",
              "    border-color: transparent;\n",
              "    border-bottom-color: var(--fill-color);\n",
              "    animation:\n",
              "      spin 1s steps(1) infinite;\n",
              "  }\n",
              "\n",
              "  @keyframes spin {\n",
              "    0% {\n",
              "      border-color: transparent;\n",
              "      border-bottom-color: var(--fill-color);\n",
              "      border-left-color: var(--fill-color);\n",
              "    }\n",
              "    20% {\n",
              "      border-color: transparent;\n",
              "      border-left-color: var(--fill-color);\n",
              "      border-top-color: var(--fill-color);\n",
              "    }\n",
              "    30% {\n",
              "      border-color: transparent;\n",
              "      border-left-color: var(--fill-color);\n",
              "      border-top-color: var(--fill-color);\n",
              "      border-right-color: var(--fill-color);\n",
              "    }\n",
              "    40% {\n",
              "      border-color: transparent;\n",
              "      border-right-color: var(--fill-color);\n",
              "      border-top-color: var(--fill-color);\n",
              "    }\n",
              "    60% {\n",
              "      border-color: transparent;\n",
              "      border-right-color: var(--fill-color);\n",
              "    }\n",
              "    80% {\n",
              "      border-color: transparent;\n",
              "      border-right-color: var(--fill-color);\n",
              "      border-bottom-color: var(--fill-color);\n",
              "    }\n",
              "    90% {\n",
              "      border-color: transparent;\n",
              "      border-bottom-color: var(--fill-color);\n",
              "    }\n",
              "  }\n",
              "</style>\n",
              "\n",
              "  <script>\n",
              "    async function quickchart(key) {\n",
              "      const quickchartButtonEl =\n",
              "        document.querySelector('#' + key + ' button');\n",
              "      quickchartButtonEl.disabled = true;  // To prevent multiple clicks.\n",
              "      quickchartButtonEl.classList.add('colab-df-spinner');\n",
              "      try {\n",
              "        const charts = await google.colab.kernel.invokeFunction(\n",
              "            'suggestCharts', [key], {});\n",
              "      } catch (error) {\n",
              "        console.error('Error during call to suggestCharts:', error);\n",
              "      }\n",
              "      quickchartButtonEl.classList.remove('colab-df-spinner');\n",
              "      quickchartButtonEl.classList.add('colab-df-quickchart-complete');\n",
              "    }\n",
              "    (() => {\n",
              "      let quickchartButtonEl =\n",
              "        document.querySelector('#df-56c40cac-ac94-481e-ab27-7e07e055d9e7 button');\n",
              "      quickchartButtonEl.style.display =\n",
              "        google.colab.kernel.accessAllowed ? 'block' : 'none';\n",
              "    })();\n",
              "  </script>\n",
              "</div>\n",
              "    </div>\n",
              "  </div>\n"
            ],
            "application/vnd.google.colaboratory.intrinsic+json": {
              "type": "dataframe",
              "variable_name": "df_pattern",
              "summary": "{\n  \"name\": \"df_pattern\",\n  \"rows\": 187,\n  \"fields\": [\n    {\n      \"column\": \"Sentence\",\n      \"properties\": {\n        \"dtype\": \"string\",\n        \"num_unique_values\": 115,\n        \"samples\": [\n          \"ArchiveEarningsTrader TalkTechCybersecurityEnterpriseInternetMediaMobileSocial MediaCNBC Disruptor 50Tech GuidePoliticsWhite HousePolicyDefenseCongressEquity and OpportunityCNBC\",\n          \"WaitlistBy signing up, you will receive emails about CoinDesk products and you agree to our terms & conditions and privacy policy.\",\n          \"Right IconProtocol Village: Oobit Collaboration With TON Lets Users Spend Tether Sent Over Telegram May 17, 2024Bitcoin Rises Above $67K, but Lags Broader Crypto Market as ETH, SOL, LINK Post Big GainsMay 17, 2024National Security Threat?\"\n        ],\n        \"semantic_type\": \"\",\n        \"description\": \"\"\n      }\n    },\n    {\n      \"column\": \"Polarity_PT\",\n      \"properties\": {\n        \"dtype\": \"number\",\n        \"std\": 0.15361572190001893,\n        \"min\": -0.5,\n        \"max\": 0.5,\n        \"num_unique_values\": 39,\n        \"samples\": [\n          -0.02585227272727269,\n          -0.015000000000000003,\n          0.13636363636363635\n        ],\n        \"semantic_type\": \"\",\n        \"description\": \"\"\n      }\n    },\n    {\n      \"column\": \"Subjectivity_PT\",\n      \"properties\": {\n        \"dtype\": \"number\",\n        \"std\": 0.2560383977888148,\n        \"min\": 0.0,\n        \"max\": 0.9,\n        \"num_unique_values\": 46,\n        \"samples\": [\n          0.15,\n          0.1,\n          0.4\n        ],\n        \"semantic_type\": \"\",\n        \"description\": \"\"\n      }\n    }\n  ]\n}"
            }
          },
          "metadata": {},
          "execution_count": 64
        }
      ],
      "source": [
        "df_pattern.head()"
      ]
    },
    {
      "cell_type": "code",
      "execution_count": null,
      "metadata": {
        "id": "67uUPYF8bafT",
        "colab": {
          "base_uri": "https://localhost:8080/",
          "height": 523
        },
        "outputId": "8b3e4894-8ded-4a38-8847-0e60d799b024"
      },
      "outputs": [
        {
          "output_type": "execute_result",
          "data": {
            "text/plain": [
              "Text(0.5, 9.444444444444438, 'Sentence Polarity (Pattern)')"
            ]
          },
          "metadata": {},
          "execution_count": 65
        },
        {
          "output_type": "display_data",
          "data": {
            "text/plain": [
              "<Figure size 900x500 with 1 Axes>"
            ],
            "image/png": "[encoded data removed]"
          },
          "metadata": {}
        }
      ],
      "source": [
        "sns.displot(df_pattern[\"Polarity_PT\"], height= 5, aspect=1.8)\n",
        "plt.xlabel(\"Sentence Polarity (Pattern)\")"
      ]
    },
    {
      "cell_type": "code",
      "execution_count": null,
      "metadata": {
        "id": "W5PWMhT9bdhB",
        "colab": {
          "base_uri": "https://localhost:8080/",
          "height": 523
        },
        "outputId": "912a162d-acd8-4058-cd2f-c0bd63b7f20f"
      },
      "outputs": [
        {
          "output_type": "execute_result",
          "data": {
            "text/plain": [
              "Text(0.5, 9.444444444444438, 'Sentence Subjectivity (Pattern)')"
            ]
          },
          "metadata": {},
          "execution_count": 66
        },
        {
          "output_type": "display_data",
          "data": {
            "text/plain": [
              "<Figure size 900x500 with 1 Axes>"
            ],
            "image/png": "[encoded data removed]"
          },
          "metadata": {}
        }
      ],
      "source": [
        "sns.displot(df_pattern[\"Subjectivity_PT\"], height= 5, aspect=1.8)\n",
        "plt.xlabel(\"Sentence Subjectivity (Pattern)\")"
      ]
    },
    {
      "cell_type": "code",
      "execution_count": null,
      "metadata": {
        "id": "KwKUy69AFsNi",
        "colab": {
          "base_uri": "https://localhost:8080/"
        },
        "outputId": "a9dfc485-37d2-4bc5-9393-cebde787fc59"
      },
      "outputs": [
        {
          "output_type": "stream",
          "name": "stdout",
          "text": [
            "\n",
            "Bitcoin Sentiment Analysis (TextBlob):\n",
            "Number of positive sentiment sentences: 59\n",
            "Number of negative sentiment sentences: 26\n",
            "Percentage of positive sentiment sentences: 31.55%\n",
            "Percentage of negative sentiment sentences: 13.90%\n"
          ]
        }
      ],
      "source": [
        "num_positive_sentences = len(df_textblob[df_textblob['Polarity_TB'] > 0])\n",
        "num_negative_sentences = len(df_textblob[df_textblob['Polarity_TB'] < 0])\n",
        "percentage_positive_sentences = (num_positive_sentences / len(df_textblob)) * 100\n",
        "percentage_negative_sentences = (num_negative_sentences / len(df_textblob)) * 100\n",
        "\n",
        "print(\"\\nBitcoin Sentiment Analysis (TextBlob):\")\n",
        "print(\"Number of positive sentiment sentences:\", num_positive_sentences)\n",
        "print(\"Number of negative sentiment sentences:\", num_negative_sentences)\n",
        "print(\"Percentage of positive sentiment sentences: {:.2f}%\".format(percentage_positive_sentences))\n",
        "print(\"Percentage of negative sentiment sentences: {:.2f}%\".format(percentage_negative_sentences))"
      ]
    },
    {
      "cell_type": "code",
      "execution_count": null,
      "metadata": {
        "id": "tqWVb1YzF123",
        "colab": {
          "base_uri": "https://localhost:8080/"
        },
        "outputId": "15803194-df37-4444-8f2c-18b0d73a48b7"
      },
      "outputs": [
        {
          "output_type": "stream",
          "name": "stdout",
          "text": [
            "\n",
            "Bitcoin Sentiment Analysis (Pattern):\n",
            "Number of positive sentiment sentences: 59\n",
            "Number of negative sentiment sentences: 26\n",
            "Percentage of positive sentiment sentences: 31.55%\n",
            "Percentage of negative sentiment sentences: 13.90%\n"
          ]
        }
      ],
      "source": [
        "num_positive_sentences_pt = len(df_pattern[df_pattern['Polarity_PT'] > 0])\n",
        "num_negative_sentences_pt = len(df_pattern[df_pattern['Polarity_PT'] < 0])\n",
        "percentage_positive_sentences_pt = (num_positive_sentences_pt / len(df_pattern)) * 100\n",
        "percentage_negative_sentences_pt = (num_negative_sentences_pt / len(df_pattern)) * 100\n",
        "\n",
        "print(\"\\nBitcoin Sentiment Analysis (Pattern):\")\n",
        "print(\"Number of positive sentiment sentences:\", num_positive_sentences_pt)\n",
        "print(\"Number of negative sentiment sentences:\", num_negative_sentences_pt)\n",
        "print(\"Percentage of positive sentiment sentences: {:.2f}%\".format(percentage_positive_sentences_pt))\n",
        "print(\"Percentage of negative sentiment sentences: {:.2f}%\".format(percentage_negative_sentences_pt))"
      ]
    },
    {
      "cell_type": "markdown",
      "metadata": {
        "id": "VqzyoelL_FnE"
      },
      "source": [
        "**Tweets**"
      ]
    },
    {
      "cell_type": "code",
      "execution_count": null,
      "metadata": {
        "id": "t0jk7p3EN8Q4",
        "colab": {
          "base_uri": "https://localhost:8080/"
        },
        "outputId": "b839db6b-c542-423b-8a31-3af02d8c9879"
      },
      "outputs": [
        {
          "output_type": "stream",
          "name": "stdout",
          "text": [
            "Sentiment Analysis for Tweets with Followers >= 1,000,000:\n",
            "Number of Positive Sentiments: 13\n",
            "Number of Negative Sentiments: 20\n",
            "Percentage of Positive Sentiments: 39.39%\n",
            "Percentage of Negative Sentiments: 60.61%\n"
          ]
        }
      ],
      "source": [
        "  import pandas as pd\n",
        "  from textblob import TextBlob\n",
        "  from sklearn.metrics import mean_absolute_error, mean_squared_error\n",
        "  from math import sqrt\n",
        "\n",
        "  df_tweets = pd.read_csv(\"Tweets.csv\")\n",
        "\n",
        "  df_high_followers = df_tweets[df_tweets['Followers'] >= 1000000]\n",
        "\n",
        "  positive_sentiments = []\n",
        "  negative_sentiments = []\n",
        "\n",
        "  for tweet in df_high_followers['Text']:\n",
        "      analysis = TextBlob(tweet)\n",
        "      polarity = analysis.sentiment.polarity\n",
        "\n",
        "      # Determine if sentiment is positive or negative\n",
        "      if polarity > 0:\n",
        "          positive_sentiments.append(polarity)\n",
        "      elif polarity < 0:\n",
        "          negative_sentiments.append(polarity)\n",
        "\n",
        "  total_tweets = len(positive_sentiments) + len(negative_sentiments)\n",
        "  positive_percentage = (len(positive_sentiments) / total_tweets) * 100\n",
        "  negative_percentage = (len(negative_sentiments) / total_tweets) * 100\n",
        "\n",
        "  print(\"Sentiment Analysis for Tweets with Followers >= 1,000,000:\")\n",
        "  print(\"Number of Positive Sentiments:\", len(positive_sentiments))\n",
        "  print(\"Number of Negative Sentiments:\", len(negative_sentiments))\n",
        "  print(\"Percentage of Positive Sentiments: {:.2f}%\".format(positive_percentage))\n",
        "  print(\"Percentage of Negative Sentiments: {:.2f}%\".format(negative_percentage))"
      ]
    },
    {
      "cell_type": "code",
      "execution_count": null,
      "metadata": {
        "id": "f-0ObLLR5CvD",
        "colab": {
          "base_uri": "https://localhost:8080/",
          "height": 564
        },
        "outputId": "f0d56f70-7b51-495c-b05c-d02421fd7bf8"
      },
      "outputs": [
        {
          "output_type": "display_data",
          "data": {
            "text/plain": [
              "<Figure size 800x600 with 1 Axes>"
            ],
            "image/png": "[encoded data removed]"
          },
          "metadata": {}
        }
      ],
      "source": [
        "plt.figure(figsize=(8, 6))\n",
        "plt.hist([positive_sentiments, negative_sentiments], bins=20, color=['blue', 'red'], alpha=0.7, label=['Positive Sentiments', 'Negative Sentiments'])\n",
        "plt.xlabel('Polarity')\n",
        "plt.ylabel('Frequency')\n",
        "plt.title('Polarity Distribution')\n",
        "plt.legend()\n",
        "plt.grid(True)\n",
        "plt.show()"
      ]
    },
    {
      "cell_type": "code",
      "execution_count": null,
      "metadata": {
        "id": "qMSKIfNZ_Q-0",
        "colab": {
          "base_uri": "https://localhost:8080/"
        },
        "outputId": "029b0cdd-5932-4b83-c3ab-8db7c8f972d1"
      },
      "outputs": [
        {
          "output_type": "stream",
          "name": "stdout",
          "text": [
            "Adjusted Price for RNN: 53552.590\n",
            "Adjusted Price for LSTM: 54891.523\n",
            "Adjusted Price for CNN: 57800.352\n",
            "Adjusted Price for CNN-LSTM: 55211.309\n",
            "Adjusted Price for Bi-LSTM: 54627.137\n",
            "Adjusted Price for CNN-BiLSTM: 55935.355\n",
            "Adjusted Price for GRU: 55404.242\n",
            "Adjusted Price for RF: 55503.786\n",
            "Adjusted Price for SVM: 57381.010\n"
          ]
        },
        {
          "output_type": "stream",
          "name": "stderr",
          "text": [
            "<ipython-input-72-20dc911fb919>:22: DeprecationWarning: Conversion of an array with ndim > 0 to a scalar is deprecated, and will error in future. Ensure you extract a single element from your array before performing this operation. (Deprecated NumPy 1.25.)\n",
            "  print(f\"Adjusted Price for {model_name}: {float(price):.3f}\")\n"
          ]
        }
      ],
      "source": [
        "positive_weight = 0.5\n",
        "negative_weight = 0.5\n",
        "\n",
        "sentiment_score = (positive_weight * positive_percentage) - (negative_weight * negative_percentage)\n",
        "\n",
        "predicted_prices = [pred_price_1, pred_price_2, pred_price_3, pred_price_4, pred_price_5, pred_price_6,\n",
        "                    pred_price_7, pred_price_rf, pred_price_svm]\n",
        "\n",
        "model_names = [\"RNN\", \"LSTM\", \"CNN\", \"CNN-LSTM\", \"Bi-LSTM\", \"CNN-BiLSTM\", \"GRU\", \"RF\", \"SVM\"]\n",
        "\n",
        "adjusted_prices = []\n",
        "for price in predicted_prices:\n",
        "    if sentiment_score >= 0:\n",
        "        adjusted_price = price + (abs(sentiment_score) * 0.01 * price)\n",
        "    else:\n",
        "        adjusted_price = price - (abs(sentiment_score) * 0.01 * price)\n",
        "    adjusted_prices.append(adjusted_price)\n",
        "\n",
        "adjusted_prices_with_names = zip(model_names, adjusted_prices)\n",
        "\n",
        "for i, (model_name, price) in enumerate(adjusted_prices_with_names, start=1):\n",
        "    print(f\"Adjusted Price for {model_name}: {float(price):.3f}\")"
      ]
    }
  ],
  "metadata": {
    "accelerator": "GPU",
    "colab": {
      "gpuType": "T4",
      "provenance": []
    },
    "kernelspec": {
      "display_name": "Python 3",
      "name": "python3"
    },
    "language_info": {
      "name": "python"
    }
  },
  "nbformat": 4,
  "nbformat_minor": 0
}